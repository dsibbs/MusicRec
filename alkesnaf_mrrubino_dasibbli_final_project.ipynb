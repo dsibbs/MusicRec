{
  "cells": [
    {
      "cell_type": "markdown",
      "source": [
        "# Music Recommendation System\n",
        "### Al-Kesna Foster, Matthew Rubino, Donovan Sibblies"
      ],
      "metadata": {
        "id": "1R6aH8PjClU1"
      }
    },
    {
      "cell_type": "markdown",
      "source": [
        "## Imports"
      ],
      "metadata": {
        "id": "vBCAkr89B8cJ"
      }
    },
    {
      "cell_type": "code",
      "execution_count": null,
      "metadata": {
        "id": "8Ws-WkPmDwdO"
      },
      "outputs": [],
      "source": [
        "import csv\n",
        "import json\n",
        "import pandas as pd\n",
        "import numpy as np\n",
        "import seaborn as sns\n",
        "import matplotlib.pyplot as plt\n",
        "from os import path\n",
        "from google.colab import drive"
      ]
    },
    {
      "cell_type": "code",
      "execution_count": null,
      "metadata": {
        "colab": {
          "base_uri": "https://localhost:8080/"
        },
        "id": "GX64zhCpLe3-",
        "outputId": "369241fc-4ccd-4c4e-f7a2-fe9724897d93"
      },
      "outputs": [
        {
          "output_type": "stream",
          "name": "stdout",
          "text": [
            "Mounted at /content/drive\n"
          ]
        }
      ],
      "source": [
        "# Mount drive to grab files\n",
        "drive.mount(\"/content/drive\")"
      ]
    },
    {
      "cell_type": "markdown",
      "source": [
        "## Constants"
      ],
      "metadata": {
        "id": "vNatStTYCFN2"
      }
    },
    {
      "cell_type": "code",
      "source": [
        "BASE_PATH = \"/content/drive/MyDrive/368 Final Project\""
      ],
      "metadata": {
        "id": "SnR3EoWSA664"
      },
      "execution_count": null,
      "outputs": []
    },
    {
      "cell_type": "markdown",
      "source": [
        "## Preprocessing\n",
        "\n"
      ],
      "metadata": {
        "id": "XCBLEt8QB2RN"
      }
    },
    {
      "cell_type": "code",
      "source": [
        "# Load taste triplets into Pandas DataFrame\n",
        "train_triplets_df = pd.read_csv(path.join(path.join(BASE_PATH, 'train_triplets.txt')), sep='\\t', names=['user_id', 'song_id', 'listen_count'])\n",
        "train_triplets_df"
      ],
      "metadata": {
        "id": "o2kqK1LWjY1r",
        "colab": {
          "base_uri": "https://localhost:8080/",
          "height": 424
        },
        "outputId": "7778096b-9f81-446e-e0d4-aea93fe770f4"
      },
      "execution_count": null,
      "outputs": [
        {
          "output_type": "execute_result",
          "data": {
            "text/plain": [
              "                                           user_id             song_id  \\\n",
              "0         b80344d063b5ccb3212f76538f3d9e43d87dca9e  SOAKIMP12A8C130995   \n",
              "1         b80344d063b5ccb3212f76538f3d9e43d87dca9e  SOAPDEY12A81C210A9   \n",
              "2         b80344d063b5ccb3212f76538f3d9e43d87dca9e  SOBBMDR12A8C13253B   \n",
              "3         b80344d063b5ccb3212f76538f3d9e43d87dca9e  SOBFNSP12AF72A0E22   \n",
              "4         b80344d063b5ccb3212f76538f3d9e43d87dca9e  SOBFOVM12A58A7D494   \n",
              "...                                            ...                 ...   \n",
              "48373581  b7815dbb206eb2831ce0fe040d0aa537e2e800f7  SOUHHHH12AF729E4AF   \n",
              "48373582  b7815dbb206eb2831ce0fe040d0aa537e2e800f7  SOUJVIT12A8C1451C1   \n",
              "48373583  b7815dbb206eb2831ce0fe040d0aa537e2e800f7  SOUSMXX12AB0185C24   \n",
              "48373584  b7815dbb206eb2831ce0fe040d0aa537e2e800f7  SOWYSKH12AF72A303A   \n",
              "48373585  b7815dbb206eb2831ce0fe040d0aa537e2e800f7  SOYYFLV12A58A7A88F   \n",
              "\n",
              "          listen_count  \n",
              "0                    1  \n",
              "1                    1  \n",
              "2                    2  \n",
              "3                    1  \n",
              "4                    1  \n",
              "...                ...  \n",
              "48373581             2  \n",
              "48373582             1  \n",
              "48373583             1  \n",
              "48373584             3  \n",
              "48373585             1  \n",
              "\n",
              "[48373586 rows x 3 columns]"
            ],
            "text/html": [
              "\n",
              "  <div id=\"df-b5513150-6509-4310-b33a-1e4d254928be\">\n",
              "    <div class=\"colab-df-container\">\n",
              "      <div>\n",
              "<style scoped>\n",
              "    .dataframe tbody tr th:only-of-type {\n",
              "        vertical-align: middle;\n",
              "    }\n",
              "\n",
              "    .dataframe tbody tr th {\n",
              "        vertical-align: top;\n",
              "    }\n",
              "\n",
              "    .dataframe thead th {\n",
              "        text-align: right;\n",
              "    }\n",
              "</style>\n",
              "<table border=\"1\" class=\"dataframe\">\n",
              "  <thead>\n",
              "    <tr style=\"text-align: right;\">\n",
              "      <th></th>\n",
              "      <th>user_id</th>\n",
              "      <th>song_id</th>\n",
              "      <th>listen_count</th>\n",
              "    </tr>\n",
              "  </thead>\n",
              "  <tbody>\n",
              "    <tr>\n",
              "      <th>0</th>\n",
              "      <td>b80344d063b5ccb3212f76538f3d9e43d87dca9e</td>\n",
              "      <td>SOAKIMP12A8C130995</td>\n",
              "      <td>1</td>\n",
              "    </tr>\n",
              "    <tr>\n",
              "      <th>1</th>\n",
              "      <td>b80344d063b5ccb3212f76538f3d9e43d87dca9e</td>\n",
              "      <td>SOAPDEY12A81C210A9</td>\n",
              "      <td>1</td>\n",
              "    </tr>\n",
              "    <tr>\n",
              "      <th>2</th>\n",
              "      <td>b80344d063b5ccb3212f76538f3d9e43d87dca9e</td>\n",
              "      <td>SOBBMDR12A8C13253B</td>\n",
              "      <td>2</td>\n",
              "    </tr>\n",
              "    <tr>\n",
              "      <th>3</th>\n",
              "      <td>b80344d063b5ccb3212f76538f3d9e43d87dca9e</td>\n",
              "      <td>SOBFNSP12AF72A0E22</td>\n",
              "      <td>1</td>\n",
              "    </tr>\n",
              "    <tr>\n",
              "      <th>4</th>\n",
              "      <td>b80344d063b5ccb3212f76538f3d9e43d87dca9e</td>\n",
              "      <td>SOBFOVM12A58A7D494</td>\n",
              "      <td>1</td>\n",
              "    </tr>\n",
              "    <tr>\n",
              "      <th>...</th>\n",
              "      <td>...</td>\n",
              "      <td>...</td>\n",
              "      <td>...</td>\n",
              "    </tr>\n",
              "    <tr>\n",
              "      <th>48373581</th>\n",
              "      <td>b7815dbb206eb2831ce0fe040d0aa537e2e800f7</td>\n",
              "      <td>SOUHHHH12AF729E4AF</td>\n",
              "      <td>2</td>\n",
              "    </tr>\n",
              "    <tr>\n",
              "      <th>48373582</th>\n",
              "      <td>b7815dbb206eb2831ce0fe040d0aa537e2e800f7</td>\n",
              "      <td>SOUJVIT12A8C1451C1</td>\n",
              "      <td>1</td>\n",
              "    </tr>\n",
              "    <tr>\n",
              "      <th>48373583</th>\n",
              "      <td>b7815dbb206eb2831ce0fe040d0aa537e2e800f7</td>\n",
              "      <td>SOUSMXX12AB0185C24</td>\n",
              "      <td>1</td>\n",
              "    </tr>\n",
              "    <tr>\n",
              "      <th>48373584</th>\n",
              "      <td>b7815dbb206eb2831ce0fe040d0aa537e2e800f7</td>\n",
              "      <td>SOWYSKH12AF72A303A</td>\n",
              "      <td>3</td>\n",
              "    </tr>\n",
              "    <tr>\n",
              "      <th>48373585</th>\n",
              "      <td>b7815dbb206eb2831ce0fe040d0aa537e2e800f7</td>\n",
              "      <td>SOYYFLV12A58A7A88F</td>\n",
              "      <td>1</td>\n",
              "    </tr>\n",
              "  </tbody>\n",
              "</table>\n",
              "<p>48373586 rows × 3 columns</p>\n",
              "</div>\n",
              "      <button class=\"colab-df-convert\" onclick=\"convertToInteractive('df-b5513150-6509-4310-b33a-1e4d254928be')\"\n",
              "              title=\"Convert this dataframe to an interactive table.\"\n",
              "              style=\"display:none;\">\n",
              "        \n",
              "  <svg xmlns=\"http://www.w3.org/2000/svg\" height=\"24px\"viewBox=\"0 0 24 24\"\n",
              "       width=\"24px\">\n",
              "    <path d=\"M0 0h24v24H0V0z\" fill=\"none\"/>\n",
              "    <path d=\"M18.56 5.44l.94 2.06.94-2.06 2.06-.94-2.06-.94-.94-2.06-.94 2.06-2.06.94zm-11 1L8.5 8.5l.94-2.06 2.06-.94-2.06-.94L8.5 2.5l-.94 2.06-2.06.94zm10 10l.94 2.06.94-2.06 2.06-.94-2.06-.94-.94-2.06-.94 2.06-2.06.94z\"/><path d=\"M17.41 7.96l-1.37-1.37c-.4-.4-.92-.59-1.43-.59-.52 0-1.04.2-1.43.59L10.3 9.45l-7.72 7.72c-.78.78-.78 2.05 0 2.83L4 21.41c.39.39.9.59 1.41.59.51 0 1.02-.2 1.41-.59l7.78-7.78 2.81-2.81c.8-.78.8-2.07 0-2.86zM5.41 20L4 18.59l7.72-7.72 1.47 1.35L5.41 20z\"/>\n",
              "  </svg>\n",
              "      </button>\n",
              "      \n",
              "  <style>\n",
              "    .colab-df-container {\n",
              "      display:flex;\n",
              "      flex-wrap:wrap;\n",
              "      gap: 12px;\n",
              "    }\n",
              "\n",
              "    .colab-df-convert {\n",
              "      background-color: #E8F0FE;\n",
              "      border: none;\n",
              "      border-radius: 50%;\n",
              "      cursor: pointer;\n",
              "      display: none;\n",
              "      fill: #1967D2;\n",
              "      height: 32px;\n",
              "      padding: 0 0 0 0;\n",
              "      width: 32px;\n",
              "    }\n",
              "\n",
              "    .colab-df-convert:hover {\n",
              "      background-color: #E2EBFA;\n",
              "      box-shadow: 0px 1px 2px rgba(60, 64, 67, 0.3), 0px 1px 3px 1px rgba(60, 64, 67, 0.15);\n",
              "      fill: #174EA6;\n",
              "    }\n",
              "\n",
              "    [theme=dark] .colab-df-convert {\n",
              "      background-color: #3B4455;\n",
              "      fill: #D2E3FC;\n",
              "    }\n",
              "\n",
              "    [theme=dark] .colab-df-convert:hover {\n",
              "      background-color: #434B5C;\n",
              "      box-shadow: 0px 1px 3px 1px rgba(0, 0, 0, 0.15);\n",
              "      filter: drop-shadow(0px 1px 2px rgba(0, 0, 0, 0.3));\n",
              "      fill: #FFFFFF;\n",
              "    }\n",
              "  </style>\n",
              "\n",
              "      <script>\n",
              "        const buttonEl =\n",
              "          document.querySelector('#df-b5513150-6509-4310-b33a-1e4d254928be button.colab-df-convert');\n",
              "        buttonEl.style.display =\n",
              "          google.colab.kernel.accessAllowed ? 'block' : 'none';\n",
              "\n",
              "        async function convertToInteractive(key) {\n",
              "          const element = document.querySelector('#df-b5513150-6509-4310-b33a-1e4d254928be');\n",
              "          const dataTable =\n",
              "            await google.colab.kernel.invokeFunction('convertToInteractive',\n",
              "                                                     [key], {});\n",
              "          if (!dataTable) return;\n",
              "\n",
              "          const docLinkHtml = 'Like what you see? Visit the ' +\n",
              "            '<a target=\"_blank\" href=https://colab.research.google.com/notebooks/data_table.ipynb>data table notebook</a>'\n",
              "            + ' to learn more about interactive tables.';\n",
              "          element.innerHTML = '';\n",
              "          dataTable['output_type'] = 'display_data';\n",
              "          await google.colab.output.renderOutput(dataTable, element);\n",
              "          const docLink = document.createElement('div');\n",
              "          docLink.innerHTML = docLinkHtml;\n",
              "          element.appendChild(docLink);\n",
              "        }\n",
              "      </script>\n",
              "    </div>\n",
              "  </div>\n",
              "  "
            ]
          },
          "metadata": {},
          "execution_count": 4
        }
      ]
    },
    {
      "cell_type": "code",
      "source": [
        "# Filter songs at 90th percentile of listen count\n",
        "song_counts = train_triplets_df.groupby('song_id').sum()\n",
        "song_count_threshold = song_counts['listen_count'].quantile(.9)\n",
        "\n",
        "filtered_songs = song_counts[song_counts['listen_count'] > song_count_threshold]\n",
        "song_count_threshold"
      ],
      "metadata": {
        "id": "o-CznLDbWFKT",
        "outputId": "01bae97d-4b82-406c-9234-b3273f92274c",
        "colab": {
          "base_uri": "https://localhost:8080/"
        }
      },
      "execution_count": null,
      "outputs": [
        {
          "output_type": "execute_result",
          "data": {
            "text/plain": [
              "557.0"
            ]
          },
          "metadata": {},
          "execution_count": 5
        }
      ]
    },
    {
      "cell_type": "code",
      "source": [
        "# Filter users at 90th percentile of listen count\n",
        "user_counts = train_triplets_df.groupby('user_id').sum()\n",
        "user_count_threshold = user_counts['listen_count'].quantile(.9)\n",
        "\n",
        "filtered_users = user_counts[user_counts['listen_count'] > user_count_threshold]\n",
        "user_count_threshold"
      ],
      "metadata": {
        "colab": {
          "base_uri": "https://localhost:8080/"
        },
        "id": "4ArtOz9th2vk",
        "outputId": "d99ca2da-41e1-44d7-ecaa-01c99df42623"
      },
      "execution_count": null,
      "outputs": [
        {
          "output_type": "execute_result",
          "data": {
            "text/plain": [
              "322.0"
            ]
          },
          "metadata": {},
          "execution_count": 6
        }
      ]
    },
    {
      "cell_type": "code",
      "source": [
        "# Generate ID maps\n",
        "songIdMap = {songId: i for i,(songId,_) in enumerate(filtered_songs.itertuples())}\n",
        "userIdMap = {userId: i for i,(userId,_) in enumerate(filtered_users.itertuples())}"
      ],
      "metadata": {
        "id": "eiBmPBjKXmhp"
      },
      "execution_count": null,
      "outputs": []
    },
    {
      "cell_type": "code",
      "source": [
        "# Save ID maps to JSON\n",
        "with open(path.join(BASE_PATH, 'song_id_map.json'), 'w') as f:\n",
        "  json.dump(songIdMap, f)\n",
        "\n",
        "with open(path.join(BASE_PATH, 'user_id_map.json'), 'w') as f:\n",
        "  json.dump(userIdMap, f)"
      ],
      "metadata": {
        "id": "pxbrpocPbhlR"
      },
      "execution_count": null,
      "outputs": []
    },
    {
      "cell_type": "code",
      "execution_count": null,
      "metadata": {
        "id": "d4VBeT-JLxCr",
        "colab": {
          "base_uri": "https://localhost:8080/",
          "height": 424
        },
        "outputId": "3b428eea-5349-441d-c025-d294f81998d8"
      },
      "outputs": [
        {
          "output_type": "execute_result",
          "data": {
            "text/plain": [
              "                  track_id             song_id            artist  \\\n",
              "0       TRMMMYQ128F932D901  SOQMMHC12AB0180CB8  Faster Pussy cat   \n",
              "1       TRMMMKD128F425225D  SOVFVAK12A8C1350D9  Karkkiautomaatti   \n",
              "2       TRMMMRX128F93187D9  SOGTUKN12AB017F4F1    Hudson Mohawke   \n",
              "3       TRMMMCH128F425532C  SOBNYVR12A8C13558C       Yerba Brava   \n",
              "4       TRMMMWA128F426B589  SOHSBXH12A8C13B0DF        Der Mystic   \n",
              "...                    ...                 ...               ...   \n",
              "999995  TRYYYUS12903CD2DF0  SOTXAME12AB018F136      Kiko Navarro   \n",
              "999996  TRYYYJO128F426DA37  SOXQYIQ12A8C137FBB     Kuldeep Manak   \n",
              "999997  TRYYYMG128F4260ECA  SOHODZI12A8C137BB3    Gabriel Le Mar   \n",
              "999998  TRYYYDJ128F9310A21  SOLXGOR12A81C21EB7             Elude   \n",
              "999999  TRYYYVU12903CD01E3  SOWXJXQ12AB0189F43             Texta   \n",
              "\n",
              "                                       name  \n",
              "0                              Silent Night  \n",
              "1                               Tanssi vaan  \n",
              "2                         No One Could Ever  \n",
              "3                             Si Vos Querés  \n",
              "4                          Tangle Of Aspens  \n",
              "...                                     ...  \n",
              "999995                      O Samba Da Vida  \n",
              "999996                         Jago Chhadeo  \n",
              "999997                              Novemba  \n",
              "999998                              Faraday  \n",
              "999999  Fernweh feat. Sektion Kuchikäschtli  \n",
              "\n",
              "[1000000 rows x 4 columns]"
            ],
            "text/html": [
              "\n",
              "  <div id=\"df-7174e091-ea1b-4ccd-9643-f290c3532946\">\n",
              "    <div class=\"colab-df-container\">\n",
              "      <div>\n",
              "<style scoped>\n",
              "    .dataframe tbody tr th:only-of-type {\n",
              "        vertical-align: middle;\n",
              "    }\n",
              "\n",
              "    .dataframe tbody tr th {\n",
              "        vertical-align: top;\n",
              "    }\n",
              "\n",
              "    .dataframe thead th {\n",
              "        text-align: right;\n",
              "    }\n",
              "</style>\n",
              "<table border=\"1\" class=\"dataframe\">\n",
              "  <thead>\n",
              "    <tr style=\"text-align: right;\">\n",
              "      <th></th>\n",
              "      <th>track_id</th>\n",
              "      <th>song_id</th>\n",
              "      <th>artist</th>\n",
              "      <th>name</th>\n",
              "    </tr>\n",
              "  </thead>\n",
              "  <tbody>\n",
              "    <tr>\n",
              "      <th>0</th>\n",
              "      <td>TRMMMYQ128F932D901</td>\n",
              "      <td>SOQMMHC12AB0180CB8</td>\n",
              "      <td>Faster Pussy cat</td>\n",
              "      <td>Silent Night</td>\n",
              "    </tr>\n",
              "    <tr>\n",
              "      <th>1</th>\n",
              "      <td>TRMMMKD128F425225D</td>\n",
              "      <td>SOVFVAK12A8C1350D9</td>\n",
              "      <td>Karkkiautomaatti</td>\n",
              "      <td>Tanssi vaan</td>\n",
              "    </tr>\n",
              "    <tr>\n",
              "      <th>2</th>\n",
              "      <td>TRMMMRX128F93187D9</td>\n",
              "      <td>SOGTUKN12AB017F4F1</td>\n",
              "      <td>Hudson Mohawke</td>\n",
              "      <td>No One Could Ever</td>\n",
              "    </tr>\n",
              "    <tr>\n",
              "      <th>3</th>\n",
              "      <td>TRMMMCH128F425532C</td>\n",
              "      <td>SOBNYVR12A8C13558C</td>\n",
              "      <td>Yerba Brava</td>\n",
              "      <td>Si Vos Querés</td>\n",
              "    </tr>\n",
              "    <tr>\n",
              "      <th>4</th>\n",
              "      <td>TRMMMWA128F426B589</td>\n",
              "      <td>SOHSBXH12A8C13B0DF</td>\n",
              "      <td>Der Mystic</td>\n",
              "      <td>Tangle Of Aspens</td>\n",
              "    </tr>\n",
              "    <tr>\n",
              "      <th>...</th>\n",
              "      <td>...</td>\n",
              "      <td>...</td>\n",
              "      <td>...</td>\n",
              "      <td>...</td>\n",
              "    </tr>\n",
              "    <tr>\n",
              "      <th>999995</th>\n",
              "      <td>TRYYYUS12903CD2DF0</td>\n",
              "      <td>SOTXAME12AB018F136</td>\n",
              "      <td>Kiko Navarro</td>\n",
              "      <td>O Samba Da Vida</td>\n",
              "    </tr>\n",
              "    <tr>\n",
              "      <th>999996</th>\n",
              "      <td>TRYYYJO128F426DA37</td>\n",
              "      <td>SOXQYIQ12A8C137FBB</td>\n",
              "      <td>Kuldeep Manak</td>\n",
              "      <td>Jago Chhadeo</td>\n",
              "    </tr>\n",
              "    <tr>\n",
              "      <th>999997</th>\n",
              "      <td>TRYYYMG128F4260ECA</td>\n",
              "      <td>SOHODZI12A8C137BB3</td>\n",
              "      <td>Gabriel Le Mar</td>\n",
              "      <td>Novemba</td>\n",
              "    </tr>\n",
              "    <tr>\n",
              "      <th>999998</th>\n",
              "      <td>TRYYYDJ128F9310A21</td>\n",
              "      <td>SOLXGOR12A81C21EB7</td>\n",
              "      <td>Elude</td>\n",
              "      <td>Faraday</td>\n",
              "    </tr>\n",
              "    <tr>\n",
              "      <th>999999</th>\n",
              "      <td>TRYYYVU12903CD01E3</td>\n",
              "      <td>SOWXJXQ12AB0189F43</td>\n",
              "      <td>Texta</td>\n",
              "      <td>Fernweh feat. Sektion Kuchikäschtli</td>\n",
              "    </tr>\n",
              "  </tbody>\n",
              "</table>\n",
              "<p>1000000 rows × 4 columns</p>\n",
              "</div>\n",
              "      <button class=\"colab-df-convert\" onclick=\"convertToInteractive('df-7174e091-ea1b-4ccd-9643-f290c3532946')\"\n",
              "              title=\"Convert this dataframe to an interactive table.\"\n",
              "              style=\"display:none;\">\n",
              "        \n",
              "  <svg xmlns=\"http://www.w3.org/2000/svg\" height=\"24px\"viewBox=\"0 0 24 24\"\n",
              "       width=\"24px\">\n",
              "    <path d=\"M0 0h24v24H0V0z\" fill=\"none\"/>\n",
              "    <path d=\"M18.56 5.44l.94 2.06.94-2.06 2.06-.94-2.06-.94-.94-2.06-.94 2.06-2.06.94zm-11 1L8.5 8.5l.94-2.06 2.06-.94-2.06-.94L8.5 2.5l-.94 2.06-2.06.94zm10 10l.94 2.06.94-2.06 2.06-.94-2.06-.94-.94-2.06-.94 2.06-2.06.94z\"/><path d=\"M17.41 7.96l-1.37-1.37c-.4-.4-.92-.59-1.43-.59-.52 0-1.04.2-1.43.59L10.3 9.45l-7.72 7.72c-.78.78-.78 2.05 0 2.83L4 21.41c.39.39.9.59 1.41.59.51 0 1.02-.2 1.41-.59l7.78-7.78 2.81-2.81c.8-.78.8-2.07 0-2.86zM5.41 20L4 18.59l7.72-7.72 1.47 1.35L5.41 20z\"/>\n",
              "  </svg>\n",
              "      </button>\n",
              "      \n",
              "  <style>\n",
              "    .colab-df-container {\n",
              "      display:flex;\n",
              "      flex-wrap:wrap;\n",
              "      gap: 12px;\n",
              "    }\n",
              "\n",
              "    .colab-df-convert {\n",
              "      background-color: #E8F0FE;\n",
              "      border: none;\n",
              "      border-radius: 50%;\n",
              "      cursor: pointer;\n",
              "      display: none;\n",
              "      fill: #1967D2;\n",
              "      height: 32px;\n",
              "      padding: 0 0 0 0;\n",
              "      width: 32px;\n",
              "    }\n",
              "\n",
              "    .colab-df-convert:hover {\n",
              "      background-color: #E2EBFA;\n",
              "      box-shadow: 0px 1px 2px rgba(60, 64, 67, 0.3), 0px 1px 3px 1px rgba(60, 64, 67, 0.15);\n",
              "      fill: #174EA6;\n",
              "    }\n",
              "\n",
              "    [theme=dark] .colab-df-convert {\n",
              "      background-color: #3B4455;\n",
              "      fill: #D2E3FC;\n",
              "    }\n",
              "\n",
              "    [theme=dark] .colab-df-convert:hover {\n",
              "      background-color: #434B5C;\n",
              "      box-shadow: 0px 1px 3px 1px rgba(0, 0, 0, 0.15);\n",
              "      filter: drop-shadow(0px 1px 2px rgba(0, 0, 0, 0.3));\n",
              "      fill: #FFFFFF;\n",
              "    }\n",
              "  </style>\n",
              "\n",
              "      <script>\n",
              "        const buttonEl =\n",
              "          document.querySelector('#df-7174e091-ea1b-4ccd-9643-f290c3532946 button.colab-df-convert');\n",
              "        buttonEl.style.display =\n",
              "          google.colab.kernel.accessAllowed ? 'block' : 'none';\n",
              "\n",
              "        async function convertToInteractive(key) {\n",
              "          const element = document.querySelector('#df-7174e091-ea1b-4ccd-9643-f290c3532946');\n",
              "          const dataTable =\n",
              "            await google.colab.kernel.invokeFunction('convertToInteractive',\n",
              "                                                     [key], {});\n",
              "          if (!dataTable) return;\n",
              "\n",
              "          const docLinkHtml = 'Like what you see? Visit the ' +\n",
              "            '<a target=\"_blank\" href=https://colab.research.google.com/notebooks/data_table.ipynb>data table notebook</a>'\n",
              "            + ' to learn more about interactive tables.';\n",
              "          element.innerHTML = '';\n",
              "          dataTable['output_type'] = 'display_data';\n",
              "          await google.colab.output.renderOutput(dataTable, element);\n",
              "          const docLink = document.createElement('div');\n",
              "          docLink.innerHTML = docLinkHtml;\n",
              "          element.appendChild(docLink);\n",
              "        }\n",
              "      </script>\n",
              "    </div>\n",
              "  </div>\n",
              "  "
            ]
          },
          "metadata": {},
          "execution_count": 5
        }
      ],
      "source": [
        "# Load song list into Pandas DataFrame\n",
        "song_list_df = pd.read_csv(path.join(BASE_PATH, 'song_list.txt'), sep='<SEP>', names=['track_id', 'song_id', 'artist', 'name'], engine='python')\n",
        "song_list_df"
      ]
    },
    {
      "cell_type": "code",
      "source": [
        "# Filter and song list and taste list using song and user maps\n",
        "with open(path.join(BASE_PATH, 'song_list.csv'), 'w') as f:\n",
        "  writer = csv.writer(f)\n",
        "\n",
        "  header = ['track_id', 'song_id', 'artist', 'name']\n",
        "  writer.writerow(header)\n",
        "  songNameMap ={}\n",
        "  for _,trackId,songId,artist,name in song_list_df.itertuples():\n",
        "    songNameMap[songId]= name\n",
        "  for _,trackId,songId,artist,name in song_list_df.itertuples():\n",
        "    if songId in songIdMap:\n",
        "      row = [trackId, songIdMap[songId], artist, name]\n",
        "      writer.writerow(row)\n",
        "\n",
        "with open(path.join(BASE_PATH, 'train_triplets.csv'), 'w') as f:\n",
        "  writer = csv.writer(f)\n",
        "\n",
        "  header = ['user_id', 'song_id', 'listen_count']\n",
        "  writer.writerow(header)\n",
        "\n",
        "  for _,userId,songId,listenCount in train_triplets_df.itertuples():\n",
        "    if userId in userIdMap and songId in songIdMap:\n",
        "      row = [userIdMap[userId], songIdMap[songId], listenCount]\n",
        "      writer.writerow(row)"
      ],
      "metadata": {
        "id": "zrpmwonomrYw"
      },
      "execution_count": null,
      "outputs": []
    },
    {
      "cell_type": "code",
      "source": [
        "# Generate song information map\n",
        "songInfoMap = {songIdMap[songId]: (artist,name) for _,_,songId,artist,name in song_list_df.itertuples() if songId in songIdMap}"
      ],
      "metadata": {
        "id": "iukqtMu_S6W9"
      },
      "execution_count": null,
      "outputs": []
    },
    {
      "cell_type": "code",
      "source": [
        "# Save song information map to JSON\n",
        "with open(path.join(BASE_PATH, 'song_info_map.json'), 'w') as f:\n",
        "  json.dump(songInfoMap, f)"
      ],
      "metadata": {
        "id": "KNyNixZYTwtL"
      },
      "execution_count": null,
      "outputs": []
    },
    {
      "cell_type": "markdown",
      "source": [
        "## Exploratory Analysis"
      ],
      "metadata": {
        "id": "T2l_m8c-Bz-4"
      }
    },
    {
      "cell_type": "code",
      "source": [
        "song_list_df = pd.read_csv(path.join(path.join(BASE_PATH, \"song_list.csv\")))\n",
        "song_list_df.head()"
      ],
      "metadata": {
        "id": "2b_w-XCP-8bP",
        "colab": {
          "base_uri": "https://localhost:8080/",
          "height": 206
        },
        "outputId": "120731d7-8290-448f-f7e7-a40dc53a5532"
      },
      "execution_count": null,
      "outputs": [
        {
          "output_type": "execute_result",
          "data": {
            "text/plain": [
              "             track_id  song_id          artist  \\\n",
              "0  TRMMMFG128F425087B    34175      Billy Idol   \n",
              "1  TRMMGCB128E079651D    11769       Morcheeba   \n",
              "2  TRMMGTX128F92FB4D9     6392         Bacilos   \n",
              "3  TRMMGDP128F933E59A    10735        Al Green   \n",
              "4  TRMMHBF12903CF6E59    14295  Laurel & Hardy   \n",
              "\n",
              "                                        name  \n",
              "0                                     Scream  \n",
              "1  Get Along (Feat: Pace Won) (Instrumental)  \n",
              "2                                      Viejo  \n",
              "3                      I Say A Little Prayer  \n",
              "4                    At the Ball_ That's All  "
            ],
            "text/html": [
              "\n",
              "  <div id=\"df-d4c144d4-88cc-4e23-abfd-7ef8efe23bf1\">\n",
              "    <div class=\"colab-df-container\">\n",
              "      <div>\n",
              "<style scoped>\n",
              "    .dataframe tbody tr th:only-of-type {\n",
              "        vertical-align: middle;\n",
              "    }\n",
              "\n",
              "    .dataframe tbody tr th {\n",
              "        vertical-align: top;\n",
              "    }\n",
              "\n",
              "    .dataframe thead th {\n",
              "        text-align: right;\n",
              "    }\n",
              "</style>\n",
              "<table border=\"1\" class=\"dataframe\">\n",
              "  <thead>\n",
              "    <tr style=\"text-align: right;\">\n",
              "      <th></th>\n",
              "      <th>track_id</th>\n",
              "      <th>song_id</th>\n",
              "      <th>artist</th>\n",
              "      <th>name</th>\n",
              "    </tr>\n",
              "  </thead>\n",
              "  <tbody>\n",
              "    <tr>\n",
              "      <th>0</th>\n",
              "      <td>TRMMMFG128F425087B</td>\n",
              "      <td>34175</td>\n",
              "      <td>Billy Idol</td>\n",
              "      <td>Scream</td>\n",
              "    </tr>\n",
              "    <tr>\n",
              "      <th>1</th>\n",
              "      <td>TRMMGCB128E079651D</td>\n",
              "      <td>11769</td>\n",
              "      <td>Morcheeba</td>\n",
              "      <td>Get Along (Feat: Pace Won) (Instrumental)</td>\n",
              "    </tr>\n",
              "    <tr>\n",
              "      <th>2</th>\n",
              "      <td>TRMMGTX128F92FB4D9</td>\n",
              "      <td>6392</td>\n",
              "      <td>Bacilos</td>\n",
              "      <td>Viejo</td>\n",
              "    </tr>\n",
              "    <tr>\n",
              "      <th>3</th>\n",
              "      <td>TRMMGDP128F933E59A</td>\n",
              "      <td>10735</td>\n",
              "      <td>Al Green</td>\n",
              "      <td>I Say A Little Prayer</td>\n",
              "    </tr>\n",
              "    <tr>\n",
              "      <th>4</th>\n",
              "      <td>TRMMHBF12903CF6E59</td>\n",
              "      <td>14295</td>\n",
              "      <td>Laurel &amp; Hardy</td>\n",
              "      <td>At the Ball_ That's All</td>\n",
              "    </tr>\n",
              "  </tbody>\n",
              "</table>\n",
              "</div>\n",
              "      <button class=\"colab-df-convert\" onclick=\"convertToInteractive('df-d4c144d4-88cc-4e23-abfd-7ef8efe23bf1')\"\n",
              "              title=\"Convert this dataframe to an interactive table.\"\n",
              "              style=\"display:none;\">\n",
              "        \n",
              "  <svg xmlns=\"http://www.w3.org/2000/svg\" height=\"24px\"viewBox=\"0 0 24 24\"\n",
              "       width=\"24px\">\n",
              "    <path d=\"M0 0h24v24H0V0z\" fill=\"none\"/>\n",
              "    <path d=\"M18.56 5.44l.94 2.06.94-2.06 2.06-.94-2.06-.94-.94-2.06-.94 2.06-2.06.94zm-11 1L8.5 8.5l.94-2.06 2.06-.94-2.06-.94L8.5 2.5l-.94 2.06-2.06.94zm10 10l.94 2.06.94-2.06 2.06-.94-2.06-.94-.94-2.06-.94 2.06-2.06.94z\"/><path d=\"M17.41 7.96l-1.37-1.37c-.4-.4-.92-.59-1.43-.59-.52 0-1.04.2-1.43.59L10.3 9.45l-7.72 7.72c-.78.78-.78 2.05 0 2.83L4 21.41c.39.39.9.59 1.41.59.51 0 1.02-.2 1.41-.59l7.78-7.78 2.81-2.81c.8-.78.8-2.07 0-2.86zM5.41 20L4 18.59l7.72-7.72 1.47 1.35L5.41 20z\"/>\n",
              "  </svg>\n",
              "      </button>\n",
              "      \n",
              "  <style>\n",
              "    .colab-df-container {\n",
              "      display:flex;\n",
              "      flex-wrap:wrap;\n",
              "      gap: 12px;\n",
              "    }\n",
              "\n",
              "    .colab-df-convert {\n",
              "      background-color: #E8F0FE;\n",
              "      border: none;\n",
              "      border-radius: 50%;\n",
              "      cursor: pointer;\n",
              "      display: none;\n",
              "      fill: #1967D2;\n",
              "      height: 32px;\n",
              "      padding: 0 0 0 0;\n",
              "      width: 32px;\n",
              "    }\n",
              "\n",
              "    .colab-df-convert:hover {\n",
              "      background-color: #E2EBFA;\n",
              "      box-shadow: 0px 1px 2px rgba(60, 64, 67, 0.3), 0px 1px 3px 1px rgba(60, 64, 67, 0.15);\n",
              "      fill: #174EA6;\n",
              "    }\n",
              "\n",
              "    [theme=dark] .colab-df-convert {\n",
              "      background-color: #3B4455;\n",
              "      fill: #D2E3FC;\n",
              "    }\n",
              "\n",
              "    [theme=dark] .colab-df-convert:hover {\n",
              "      background-color: #434B5C;\n",
              "      box-shadow: 0px 1px 3px 1px rgba(0, 0, 0, 0.15);\n",
              "      filter: drop-shadow(0px 1px 2px rgba(0, 0, 0, 0.3));\n",
              "      fill: #FFFFFF;\n",
              "    }\n",
              "  </style>\n",
              "\n",
              "      <script>\n",
              "        const buttonEl =\n",
              "          document.querySelector('#df-d4c144d4-88cc-4e23-abfd-7ef8efe23bf1 button.colab-df-convert');\n",
              "        buttonEl.style.display =\n",
              "          google.colab.kernel.accessAllowed ? 'block' : 'none';\n",
              "\n",
              "        async function convertToInteractive(key) {\n",
              "          const element = document.querySelector('#df-d4c144d4-88cc-4e23-abfd-7ef8efe23bf1');\n",
              "          const dataTable =\n",
              "            await google.colab.kernel.invokeFunction('convertToInteractive',\n",
              "                                                     [key], {});\n",
              "          if (!dataTable) return;\n",
              "\n",
              "          const docLinkHtml = 'Like what you see? Visit the ' +\n",
              "            '<a target=\"_blank\" href=https://colab.research.google.com/notebooks/data_table.ipynb>data table notebook</a>'\n",
              "            + ' to learn more about interactive tables.';\n",
              "          element.innerHTML = '';\n",
              "          dataTable['output_type'] = 'display_data';\n",
              "          await google.colab.output.renderOutput(dataTable, element);\n",
              "          const docLink = document.createElement('div');\n",
              "          docLink.innerHTML = docLinkHtml;\n",
              "          element.appendChild(docLink);\n",
              "        }\n",
              "      </script>\n",
              "    </div>\n",
              "  </div>\n",
              "  "
            ]
          },
          "metadata": {},
          "execution_count": 6
        }
      ]
    },
    {
      "cell_type": "code",
      "source": [
        "train_triplets_df = pd.read_csv(path.join(path.join(BASE_PATH, \"train_triplets.csv\")))\n",
        "train_triplets_df.head()"
      ],
      "metadata": {
        "colab": {
          "base_uri": "https://localhost:8080/",
          "height": 206
        },
        "id": "v6JuqlxiuWha",
        "outputId": "617dcec7-b530-4c07-fb7d-53a5274fdaa2"
      },
      "execution_count": null,
      "outputs": [
        {
          "output_type": "execute_result",
          "data": {
            "text/plain": [
              "   user_id  song_id  listen_count\n",
              "0    85198      215            12\n",
              "1    85198      345             1\n",
              "2    85198      851             1\n",
              "3    85198     1467             1\n",
              "4    85198     2402             7"
            ],
            "text/html": [
              "\n",
              "  <div id=\"df-c24b12bb-1185-44c9-9a3c-f758dea73ff5\">\n",
              "    <div class=\"colab-df-container\">\n",
              "      <div>\n",
              "<style scoped>\n",
              "    .dataframe tbody tr th:only-of-type {\n",
              "        vertical-align: middle;\n",
              "    }\n",
              "\n",
              "    .dataframe tbody tr th {\n",
              "        vertical-align: top;\n",
              "    }\n",
              "\n",
              "    .dataframe thead th {\n",
              "        text-align: right;\n",
              "    }\n",
              "</style>\n",
              "<table border=\"1\" class=\"dataframe\">\n",
              "  <thead>\n",
              "    <tr style=\"text-align: right;\">\n",
              "      <th></th>\n",
              "      <th>user_id</th>\n",
              "      <th>song_id</th>\n",
              "      <th>listen_count</th>\n",
              "    </tr>\n",
              "  </thead>\n",
              "  <tbody>\n",
              "    <tr>\n",
              "      <th>0</th>\n",
              "      <td>85198</td>\n",
              "      <td>215</td>\n",
              "      <td>12</td>\n",
              "    </tr>\n",
              "    <tr>\n",
              "      <th>1</th>\n",
              "      <td>85198</td>\n",
              "      <td>345</td>\n",
              "      <td>1</td>\n",
              "    </tr>\n",
              "    <tr>\n",
              "      <th>2</th>\n",
              "      <td>85198</td>\n",
              "      <td>851</td>\n",
              "      <td>1</td>\n",
              "    </tr>\n",
              "    <tr>\n",
              "      <th>3</th>\n",
              "      <td>85198</td>\n",
              "      <td>1467</td>\n",
              "      <td>1</td>\n",
              "    </tr>\n",
              "    <tr>\n",
              "      <th>4</th>\n",
              "      <td>85198</td>\n",
              "      <td>2402</td>\n",
              "      <td>7</td>\n",
              "    </tr>\n",
              "  </tbody>\n",
              "</table>\n",
              "</div>\n",
              "      <button class=\"colab-df-convert\" onclick=\"convertToInteractive('df-c24b12bb-1185-44c9-9a3c-f758dea73ff5')\"\n",
              "              title=\"Convert this dataframe to an interactive table.\"\n",
              "              style=\"display:none;\">\n",
              "        \n",
              "  <svg xmlns=\"http://www.w3.org/2000/svg\" height=\"24px\"viewBox=\"0 0 24 24\"\n",
              "       width=\"24px\">\n",
              "    <path d=\"M0 0h24v24H0V0z\" fill=\"none\"/>\n",
              "    <path d=\"M18.56 5.44l.94 2.06.94-2.06 2.06-.94-2.06-.94-.94-2.06-.94 2.06-2.06.94zm-11 1L8.5 8.5l.94-2.06 2.06-.94-2.06-.94L8.5 2.5l-.94 2.06-2.06.94zm10 10l.94 2.06.94-2.06 2.06-.94-2.06-.94-.94-2.06-.94 2.06-2.06.94z\"/><path d=\"M17.41 7.96l-1.37-1.37c-.4-.4-.92-.59-1.43-.59-.52 0-1.04.2-1.43.59L10.3 9.45l-7.72 7.72c-.78.78-.78 2.05 0 2.83L4 21.41c.39.39.9.59 1.41.59.51 0 1.02-.2 1.41-.59l7.78-7.78 2.81-2.81c.8-.78.8-2.07 0-2.86zM5.41 20L4 18.59l7.72-7.72 1.47 1.35L5.41 20z\"/>\n",
              "  </svg>\n",
              "      </button>\n",
              "      \n",
              "  <style>\n",
              "    .colab-df-container {\n",
              "      display:flex;\n",
              "      flex-wrap:wrap;\n",
              "      gap: 12px;\n",
              "    }\n",
              "\n",
              "    .colab-df-convert {\n",
              "      background-color: #E8F0FE;\n",
              "      border: none;\n",
              "      border-radius: 50%;\n",
              "      cursor: pointer;\n",
              "      display: none;\n",
              "      fill: #1967D2;\n",
              "      height: 32px;\n",
              "      padding: 0 0 0 0;\n",
              "      width: 32px;\n",
              "    }\n",
              "\n",
              "    .colab-df-convert:hover {\n",
              "      background-color: #E2EBFA;\n",
              "      box-shadow: 0px 1px 2px rgba(60, 64, 67, 0.3), 0px 1px 3px 1px rgba(60, 64, 67, 0.15);\n",
              "      fill: #174EA6;\n",
              "    }\n",
              "\n",
              "    [theme=dark] .colab-df-convert {\n",
              "      background-color: #3B4455;\n",
              "      fill: #D2E3FC;\n",
              "    }\n",
              "\n",
              "    [theme=dark] .colab-df-convert:hover {\n",
              "      background-color: #434B5C;\n",
              "      box-shadow: 0px 1px 3px 1px rgba(0, 0, 0, 0.15);\n",
              "      filter: drop-shadow(0px 1px 2px rgba(0, 0, 0, 0.3));\n",
              "      fill: #FFFFFF;\n",
              "    }\n",
              "  </style>\n",
              "\n",
              "      <script>\n",
              "        const buttonEl =\n",
              "          document.querySelector('#df-c24b12bb-1185-44c9-9a3c-f758dea73ff5 button.colab-df-convert');\n",
              "        buttonEl.style.display =\n",
              "          google.colab.kernel.accessAllowed ? 'block' : 'none';\n",
              "\n",
              "        async function convertToInteractive(key) {\n",
              "          const element = document.querySelector('#df-c24b12bb-1185-44c9-9a3c-f758dea73ff5');\n",
              "          const dataTable =\n",
              "            await google.colab.kernel.invokeFunction('convertToInteractive',\n",
              "                                                     [key], {});\n",
              "          if (!dataTable) return;\n",
              "\n",
              "          const docLinkHtml = 'Like what you see? Visit the ' +\n",
              "            '<a target=\"_blank\" href=https://colab.research.google.com/notebooks/data_table.ipynb>data table notebook</a>'\n",
              "            + ' to learn more about interactive tables.';\n",
              "          element.innerHTML = '';\n",
              "          dataTable['output_type'] = 'display_data';\n",
              "          await google.colab.output.renderOutput(dataTable, element);\n",
              "          const docLink = document.createElement('div');\n",
              "          docLink.innerHTML = docLinkHtml;\n",
              "          element.appendChild(docLink);\n",
              "        }\n",
              "      </script>\n",
              "    </div>\n",
              "  </div>\n",
              "  "
            ]
          },
          "metadata": {},
          "execution_count": 7
        }
      ]
    },
    {
      "cell_type": "code",
      "source": [
        "pd.set_option('float_format', '{:f}'.format)\n",
        "train_triplets_df['listen_count'].describe()"
      ],
      "metadata": {
        "colab": {
          "base_uri": "https://localhost:8080/"
        },
        "id": "_GXr2Jnmu56r",
        "outputId": "7612ac5d-7fa9-42e7-a9cc-356742caadcd"
      },
      "execution_count": null,
      "outputs": [
        {
          "output_type": "execute_result",
          "data": {
            "text/plain": [
              "count   11655110.000000\n",
              "mean           4.029814\n",
              "std           10.516052\n",
              "min            1.000000\n",
              "25%            1.000000\n",
              "50%            1.000000\n",
              "75%            4.000000\n",
              "max         9667.000000\n",
              "Name: listen_count, dtype: float64"
            ]
          },
          "metadata": {},
          "execution_count": 8
        }
      ]
    },
    {
      "cell_type": "code",
      "source": [
        "#grab song id of highest listen\n",
        "\n",
        "train_triplets_df = train_triplets_df.sort_values(by='listen_count', ascending=False)\n",
        "train_triplets_df.head()"
      ],
      "metadata": {
        "id": "J_VhgHF2yXpp",
        "colab": {
          "base_uri": "https://localhost:8080/",
          "height": 206
        },
        "outputId": "24846251-a991-4e35-802b-1a27f4e9332c"
      },
      "execution_count": null,
      "outputs": [
        {
          "output_type": "execute_result",
          "data": {
            "text/plain": [
              "          user_id  song_id  listen_count\n",
              "7708956      3574      927          9667\n",
              "4529330     76761    38048          3534\n",
              "3149718     86205     2429          3532\n",
              "11631176     9560    32114          2948\n",
              "7299036     41821    32392          2381"
            ],
            "text/html": [
              "\n",
              "  <div id=\"df-7ba3a12b-7b35-417d-be76-e5104e4e7bc4\">\n",
              "    <div class=\"colab-df-container\">\n",
              "      <div>\n",
              "<style scoped>\n",
              "    .dataframe tbody tr th:only-of-type {\n",
              "        vertical-align: middle;\n",
              "    }\n",
              "\n",
              "    .dataframe tbody tr th {\n",
              "        vertical-align: top;\n",
              "    }\n",
              "\n",
              "    .dataframe thead th {\n",
              "        text-align: right;\n",
              "    }\n",
              "</style>\n",
              "<table border=\"1\" class=\"dataframe\">\n",
              "  <thead>\n",
              "    <tr style=\"text-align: right;\">\n",
              "      <th></th>\n",
              "      <th>user_id</th>\n",
              "      <th>song_id</th>\n",
              "      <th>listen_count</th>\n",
              "    </tr>\n",
              "  </thead>\n",
              "  <tbody>\n",
              "    <tr>\n",
              "      <th>7708956</th>\n",
              "      <td>3574</td>\n",
              "      <td>927</td>\n",
              "      <td>9667</td>\n",
              "    </tr>\n",
              "    <tr>\n",
              "      <th>4529330</th>\n",
              "      <td>76761</td>\n",
              "      <td>38048</td>\n",
              "      <td>3534</td>\n",
              "    </tr>\n",
              "    <tr>\n",
              "      <th>3149718</th>\n",
              "      <td>86205</td>\n",
              "      <td>2429</td>\n",
              "      <td>3532</td>\n",
              "    </tr>\n",
              "    <tr>\n",
              "      <th>11631176</th>\n",
              "      <td>9560</td>\n",
              "      <td>32114</td>\n",
              "      <td>2948</td>\n",
              "    </tr>\n",
              "    <tr>\n",
              "      <th>7299036</th>\n",
              "      <td>41821</td>\n",
              "      <td>32392</td>\n",
              "      <td>2381</td>\n",
              "    </tr>\n",
              "  </tbody>\n",
              "</table>\n",
              "</div>\n",
              "      <button class=\"colab-df-convert\" onclick=\"convertToInteractive('df-7ba3a12b-7b35-417d-be76-e5104e4e7bc4')\"\n",
              "              title=\"Convert this dataframe to an interactive table.\"\n",
              "              style=\"display:none;\">\n",
              "        \n",
              "  <svg xmlns=\"http://www.w3.org/2000/svg\" height=\"24px\"viewBox=\"0 0 24 24\"\n",
              "       width=\"24px\">\n",
              "    <path d=\"M0 0h24v24H0V0z\" fill=\"none\"/>\n",
              "    <path d=\"M18.56 5.44l.94 2.06.94-2.06 2.06-.94-2.06-.94-.94-2.06-.94 2.06-2.06.94zm-11 1L8.5 8.5l.94-2.06 2.06-.94-2.06-.94L8.5 2.5l-.94 2.06-2.06.94zm10 10l.94 2.06.94-2.06 2.06-.94-2.06-.94-.94-2.06-.94 2.06-2.06.94z\"/><path d=\"M17.41 7.96l-1.37-1.37c-.4-.4-.92-.59-1.43-.59-.52 0-1.04.2-1.43.59L10.3 9.45l-7.72 7.72c-.78.78-.78 2.05 0 2.83L4 21.41c.39.39.9.59 1.41.59.51 0 1.02-.2 1.41-.59l7.78-7.78 2.81-2.81c.8-.78.8-2.07 0-2.86zM5.41 20L4 18.59l7.72-7.72 1.47 1.35L5.41 20z\"/>\n",
              "  </svg>\n",
              "      </button>\n",
              "      \n",
              "  <style>\n",
              "    .colab-df-container {\n",
              "      display:flex;\n",
              "      flex-wrap:wrap;\n",
              "      gap: 12px;\n",
              "    }\n",
              "\n",
              "    .colab-df-convert {\n",
              "      background-color: #E8F0FE;\n",
              "      border: none;\n",
              "      border-radius: 50%;\n",
              "      cursor: pointer;\n",
              "      display: none;\n",
              "      fill: #1967D2;\n",
              "      height: 32px;\n",
              "      padding: 0 0 0 0;\n",
              "      width: 32px;\n",
              "    }\n",
              "\n",
              "    .colab-df-convert:hover {\n",
              "      background-color: #E2EBFA;\n",
              "      box-shadow: 0px 1px 2px rgba(60, 64, 67, 0.3), 0px 1px 3px 1px rgba(60, 64, 67, 0.15);\n",
              "      fill: #174EA6;\n",
              "    }\n",
              "\n",
              "    [theme=dark] .colab-df-convert {\n",
              "      background-color: #3B4455;\n",
              "      fill: #D2E3FC;\n",
              "    }\n",
              "\n",
              "    [theme=dark] .colab-df-convert:hover {\n",
              "      background-color: #434B5C;\n",
              "      box-shadow: 0px 1px 3px 1px rgba(0, 0, 0, 0.15);\n",
              "      filter: drop-shadow(0px 1px 2px rgba(0, 0, 0, 0.3));\n",
              "      fill: #FFFFFF;\n",
              "    }\n",
              "  </style>\n",
              "\n",
              "      <script>\n",
              "        const buttonEl =\n",
              "          document.querySelector('#df-7ba3a12b-7b35-417d-be76-e5104e4e7bc4 button.colab-df-convert');\n",
              "        buttonEl.style.display =\n",
              "          google.colab.kernel.accessAllowed ? 'block' : 'none';\n",
              "\n",
              "        async function convertToInteractive(key) {\n",
              "          const element = document.querySelector('#df-7ba3a12b-7b35-417d-be76-e5104e4e7bc4');\n",
              "          const dataTable =\n",
              "            await google.colab.kernel.invokeFunction('convertToInteractive',\n",
              "                                                     [key], {});\n",
              "          if (!dataTable) return;\n",
              "\n",
              "          const docLinkHtml = 'Like what you see? Visit the ' +\n",
              "            '<a target=\"_blank\" href=https://colab.research.google.com/notebooks/data_table.ipynb>data table notebook</a>'\n",
              "            + ' to learn more about interactive tables.';\n",
              "          element.innerHTML = '';\n",
              "          dataTable['output_type'] = 'display_data';\n",
              "          await google.colab.output.renderOutput(dataTable, element);\n",
              "          const docLink = document.createElement('div');\n",
              "          docLink.innerHTML = docLinkHtml;\n",
              "          element.appendChild(docLink);\n",
              "        }\n",
              "      </script>\n",
              "    </div>\n",
              "  </div>\n",
              "  "
            ]
          },
          "metadata": {},
          "execution_count": 9
        }
      ]
    },
    {
      "cell_type": "code",
      "source": [
        "#Starshine by Gorillaz is the song with the highest listen count"
      ],
      "metadata": {
        "id": "RG8R5JPTxeHZ"
      },
      "execution_count": null,
      "outputs": []
    },
    {
      "cell_type": "code",
      "source": [
        "#join both datasets\n",
        "\n",
        "merge_df = pd.merge(train_triplets_df, song_list_df, how = 'inner', on=['song_id'])\n",
        "merge_df"
      ],
      "metadata": {
        "colab": {
          "base_uri": "https://localhost:8080/",
          "height": 424
        },
        "id": "3a9hdi5S1hGW",
        "outputId": "fc6c7080-2433-44da-8f44-d2fee0276c10"
      },
      "execution_count": null,
      "outputs": [
        {
          "output_type": "execute_result",
          "data": {
            "text/plain": [
              "          user_id  song_id  listen_count            track_id      artist  \\\n",
              "0            3574      927          9667  TRCSHLM128E078B891   Ry Cooder   \n",
              "1           92138      927           143  TRCSHLM128E078B891   Ry Cooder   \n",
              "2           74560      927           138  TRCSHLM128E078B891   Ry Cooder   \n",
              "3           52390      927           133  TRCSHLM128E078B891   Ry Cooder   \n",
              "4           21698      927           126  TRCSHLM128E078B891   Ry Cooder   \n",
              "...           ...      ...           ...                 ...         ...   \n",
              "12038561    74907    26729             1  TRLMIIK128F934112A  Pretenders   \n",
              "12038562    22856    26729             1  TRLMIIK128F934112A  Pretenders   \n",
              "12038563    83385    26729             1  TRLMIIK128F934112A  Pretenders   \n",
              "12038564    65902    26729             1  TRLMIIK128F934112A  Pretenders   \n",
              "12038565     6743    26729             1  TRLMIIK128F934112A  Pretenders   \n",
              "\n",
              "                                   name  \n",
              "0                      Corrido de Boxeo  \n",
              "1                      Corrido de Boxeo  \n",
              "2                      Corrido de Boxeo  \n",
              "3                      Corrido de Boxeo  \n",
              "4                      Corrido de Boxeo  \n",
              "...                                 ...  \n",
              "12038561  Love's a Mystery (LP Version)  \n",
              "12038562  Love's a Mystery (LP Version)  \n",
              "12038563  Love's a Mystery (LP Version)  \n",
              "12038564  Love's a Mystery (LP Version)  \n",
              "12038565  Love's a Mystery (LP Version)  \n",
              "\n",
              "[12038566 rows x 6 columns]"
            ],
            "text/html": [
              "\n",
              "  <div id=\"df-53344a3b-692a-4f8a-af25-efaec85030ea\">\n",
              "    <div class=\"colab-df-container\">\n",
              "      <div>\n",
              "<style scoped>\n",
              "    .dataframe tbody tr th:only-of-type {\n",
              "        vertical-align: middle;\n",
              "    }\n",
              "\n",
              "    .dataframe tbody tr th {\n",
              "        vertical-align: top;\n",
              "    }\n",
              "\n",
              "    .dataframe thead th {\n",
              "        text-align: right;\n",
              "    }\n",
              "</style>\n",
              "<table border=\"1\" class=\"dataframe\">\n",
              "  <thead>\n",
              "    <tr style=\"text-align: right;\">\n",
              "      <th></th>\n",
              "      <th>user_id</th>\n",
              "      <th>song_id</th>\n",
              "      <th>listen_count</th>\n",
              "      <th>track_id</th>\n",
              "      <th>artist</th>\n",
              "      <th>name</th>\n",
              "    </tr>\n",
              "  </thead>\n",
              "  <tbody>\n",
              "    <tr>\n",
              "      <th>0</th>\n",
              "      <td>3574</td>\n",
              "      <td>927</td>\n",
              "      <td>9667</td>\n",
              "      <td>TRCSHLM128E078B891</td>\n",
              "      <td>Ry Cooder</td>\n",
              "      <td>Corrido de Boxeo</td>\n",
              "    </tr>\n",
              "    <tr>\n",
              "      <th>1</th>\n",
              "      <td>92138</td>\n",
              "      <td>927</td>\n",
              "      <td>143</td>\n",
              "      <td>TRCSHLM128E078B891</td>\n",
              "      <td>Ry Cooder</td>\n",
              "      <td>Corrido de Boxeo</td>\n",
              "    </tr>\n",
              "    <tr>\n",
              "      <th>2</th>\n",
              "      <td>74560</td>\n",
              "      <td>927</td>\n",
              "      <td>138</td>\n",
              "      <td>TRCSHLM128E078B891</td>\n",
              "      <td>Ry Cooder</td>\n",
              "      <td>Corrido de Boxeo</td>\n",
              "    </tr>\n",
              "    <tr>\n",
              "      <th>3</th>\n",
              "      <td>52390</td>\n",
              "      <td>927</td>\n",
              "      <td>133</td>\n",
              "      <td>TRCSHLM128E078B891</td>\n",
              "      <td>Ry Cooder</td>\n",
              "      <td>Corrido de Boxeo</td>\n",
              "    </tr>\n",
              "    <tr>\n",
              "      <th>4</th>\n",
              "      <td>21698</td>\n",
              "      <td>927</td>\n",
              "      <td>126</td>\n",
              "      <td>TRCSHLM128E078B891</td>\n",
              "      <td>Ry Cooder</td>\n",
              "      <td>Corrido de Boxeo</td>\n",
              "    </tr>\n",
              "    <tr>\n",
              "      <th>...</th>\n",
              "      <td>...</td>\n",
              "      <td>...</td>\n",
              "      <td>...</td>\n",
              "      <td>...</td>\n",
              "      <td>...</td>\n",
              "      <td>...</td>\n",
              "    </tr>\n",
              "    <tr>\n",
              "      <th>12038561</th>\n",
              "      <td>74907</td>\n",
              "      <td>26729</td>\n",
              "      <td>1</td>\n",
              "      <td>TRLMIIK128F934112A</td>\n",
              "      <td>Pretenders</td>\n",
              "      <td>Love's a Mystery (LP Version)</td>\n",
              "    </tr>\n",
              "    <tr>\n",
              "      <th>12038562</th>\n",
              "      <td>22856</td>\n",
              "      <td>26729</td>\n",
              "      <td>1</td>\n",
              "      <td>TRLMIIK128F934112A</td>\n",
              "      <td>Pretenders</td>\n",
              "      <td>Love's a Mystery (LP Version)</td>\n",
              "    </tr>\n",
              "    <tr>\n",
              "      <th>12038563</th>\n",
              "      <td>83385</td>\n",
              "      <td>26729</td>\n",
              "      <td>1</td>\n",
              "      <td>TRLMIIK128F934112A</td>\n",
              "      <td>Pretenders</td>\n",
              "      <td>Love's a Mystery (LP Version)</td>\n",
              "    </tr>\n",
              "    <tr>\n",
              "      <th>12038564</th>\n",
              "      <td>65902</td>\n",
              "      <td>26729</td>\n",
              "      <td>1</td>\n",
              "      <td>TRLMIIK128F934112A</td>\n",
              "      <td>Pretenders</td>\n",
              "      <td>Love's a Mystery (LP Version)</td>\n",
              "    </tr>\n",
              "    <tr>\n",
              "      <th>12038565</th>\n",
              "      <td>6743</td>\n",
              "      <td>26729</td>\n",
              "      <td>1</td>\n",
              "      <td>TRLMIIK128F934112A</td>\n",
              "      <td>Pretenders</td>\n",
              "      <td>Love's a Mystery (LP Version)</td>\n",
              "    </tr>\n",
              "  </tbody>\n",
              "</table>\n",
              "<p>12038566 rows × 6 columns</p>\n",
              "</div>\n",
              "      <button class=\"colab-df-convert\" onclick=\"convertToInteractive('df-53344a3b-692a-4f8a-af25-efaec85030ea')\"\n",
              "              title=\"Convert this dataframe to an interactive table.\"\n",
              "              style=\"display:none;\">\n",
              "        \n",
              "  <svg xmlns=\"http://www.w3.org/2000/svg\" height=\"24px\"viewBox=\"0 0 24 24\"\n",
              "       width=\"24px\">\n",
              "    <path d=\"M0 0h24v24H0V0z\" fill=\"none\"/>\n",
              "    <path d=\"M18.56 5.44l.94 2.06.94-2.06 2.06-.94-2.06-.94-.94-2.06-.94 2.06-2.06.94zm-11 1L8.5 8.5l.94-2.06 2.06-.94-2.06-.94L8.5 2.5l-.94 2.06-2.06.94zm10 10l.94 2.06.94-2.06 2.06-.94-2.06-.94-.94-2.06-.94 2.06-2.06.94z\"/><path d=\"M17.41 7.96l-1.37-1.37c-.4-.4-.92-.59-1.43-.59-.52 0-1.04.2-1.43.59L10.3 9.45l-7.72 7.72c-.78.78-.78 2.05 0 2.83L4 21.41c.39.39.9.59 1.41.59.51 0 1.02-.2 1.41-.59l7.78-7.78 2.81-2.81c.8-.78.8-2.07 0-2.86zM5.41 20L4 18.59l7.72-7.72 1.47 1.35L5.41 20z\"/>\n",
              "  </svg>\n",
              "      </button>\n",
              "      \n",
              "  <style>\n",
              "    .colab-df-container {\n",
              "      display:flex;\n",
              "      flex-wrap:wrap;\n",
              "      gap: 12px;\n",
              "    }\n",
              "\n",
              "    .colab-df-convert {\n",
              "      background-color: #E8F0FE;\n",
              "      border: none;\n",
              "      border-radius: 50%;\n",
              "      cursor: pointer;\n",
              "      display: none;\n",
              "      fill: #1967D2;\n",
              "      height: 32px;\n",
              "      padding: 0 0 0 0;\n",
              "      width: 32px;\n",
              "    }\n",
              "\n",
              "    .colab-df-convert:hover {\n",
              "      background-color: #E2EBFA;\n",
              "      box-shadow: 0px 1px 2px rgba(60, 64, 67, 0.3), 0px 1px 3px 1px rgba(60, 64, 67, 0.15);\n",
              "      fill: #174EA6;\n",
              "    }\n",
              "\n",
              "    [theme=dark] .colab-df-convert {\n",
              "      background-color: #3B4455;\n",
              "      fill: #D2E3FC;\n",
              "    }\n",
              "\n",
              "    [theme=dark] .colab-df-convert:hover {\n",
              "      background-color: #434B5C;\n",
              "      box-shadow: 0px 1px 3px 1px rgba(0, 0, 0, 0.15);\n",
              "      filter: drop-shadow(0px 1px 2px rgba(0, 0, 0, 0.3));\n",
              "      fill: #FFFFFF;\n",
              "    }\n",
              "  </style>\n",
              "\n",
              "      <script>\n",
              "        const buttonEl =\n",
              "          document.querySelector('#df-53344a3b-692a-4f8a-af25-efaec85030ea button.colab-df-convert');\n",
              "        buttonEl.style.display =\n",
              "          google.colab.kernel.accessAllowed ? 'block' : 'none';\n",
              "\n",
              "        async function convertToInteractive(key) {\n",
              "          const element = document.querySelector('#df-53344a3b-692a-4f8a-af25-efaec85030ea');\n",
              "          const dataTable =\n",
              "            await google.colab.kernel.invokeFunction('convertToInteractive',\n",
              "                                                     [key], {});\n",
              "          if (!dataTable) return;\n",
              "\n",
              "          const docLinkHtml = 'Like what you see? Visit the ' +\n",
              "            '<a target=\"_blank\" href=https://colab.research.google.com/notebooks/data_table.ipynb>data table notebook</a>'\n",
              "            + ' to learn more about interactive tables.';\n",
              "          element.innerHTML = '';\n",
              "          dataTable['output_type'] = 'display_data';\n",
              "          await google.colab.output.renderOutput(dataTable, element);\n",
              "          const docLink = document.createElement('div');\n",
              "          docLink.innerHTML = docLinkHtml;\n",
              "          element.appendChild(docLink);\n",
              "        }\n",
              "      </script>\n",
              "    </div>\n",
              "  </div>\n",
              "  "
            ]
          },
          "metadata": {},
          "execution_count": 11
        }
      ]
    },
    {
      "cell_type": "code",
      "source": [
        "#songs with the most listens (most popular songs)\n",
        "\n",
        "merged_df = merge_df.groupby(['artist','track_id','name'])['listen_count'].sum().reset_index()\n",
        "merged_df = merged_df.sort_values(by = 'listen_count', ascending = False)\n",
        "merged_df.head()\n"
      ],
      "metadata": {
        "id": "s8_KPoQCCaPT",
        "colab": {
          "base_uri": "https://localhost:8080/",
          "height": 206
        },
        "outputId": "e91c9fd2-c0c8-494b-aa88-1bb94745f830"
      },
      "execution_count": null,
      "outputs": [
        {
          "output_type": "execute_result",
          "data": {
            "text/plain": [
              "                                                  artist            track_id  \\\n",
              "10559                                      Dwight Yoakam  TRAEHHJ12903CF492F   \n",
              "4309                                               Björk  TRGXQES128F42BA5EB   \n",
              "19009                                      Kings Of Leon  TRONYHY128F92C9D11   \n",
              "3317   Barry Tuckwell/Academy of St Martin-in-the-Fie...  TRLGMFJ128F4217DBE   \n",
              "14786                                           Harmonia  TRDMBIJ128F4290431   \n",
              "\n",
              "                                                    name  listen_count  \n",
              "10559                                     You're The One        248001  \n",
              "4309                                                Undo        193745  \n",
              "19009                                            Revelry        176102  \n",
              "3317   Horn Concerto No. 4 in E flat K495: II. Romanc...        126611  \n",
              "14786                                      Sehr kosmisch        126333  "
            ],
            "text/html": [
              "\n",
              "  <div id=\"df-caba18bb-51d8-4588-b45b-a985edd2f1db\">\n",
              "    <div class=\"colab-df-container\">\n",
              "      <div>\n",
              "<style scoped>\n",
              "    .dataframe tbody tr th:only-of-type {\n",
              "        vertical-align: middle;\n",
              "    }\n",
              "\n",
              "    .dataframe tbody tr th {\n",
              "        vertical-align: top;\n",
              "    }\n",
              "\n",
              "    .dataframe thead th {\n",
              "        text-align: right;\n",
              "    }\n",
              "</style>\n",
              "<table border=\"1\" class=\"dataframe\">\n",
              "  <thead>\n",
              "    <tr style=\"text-align: right;\">\n",
              "      <th></th>\n",
              "      <th>artist</th>\n",
              "      <th>track_id</th>\n",
              "      <th>name</th>\n",
              "      <th>listen_count</th>\n",
              "    </tr>\n",
              "  </thead>\n",
              "  <tbody>\n",
              "    <tr>\n",
              "      <th>10559</th>\n",
              "      <td>Dwight Yoakam</td>\n",
              "      <td>TRAEHHJ12903CF492F</td>\n",
              "      <td>You're The One</td>\n",
              "      <td>248001</td>\n",
              "    </tr>\n",
              "    <tr>\n",
              "      <th>4309</th>\n",
              "      <td>Björk</td>\n",
              "      <td>TRGXQES128F42BA5EB</td>\n",
              "      <td>Undo</td>\n",
              "      <td>193745</td>\n",
              "    </tr>\n",
              "    <tr>\n",
              "      <th>19009</th>\n",
              "      <td>Kings Of Leon</td>\n",
              "      <td>TRONYHY128F92C9D11</td>\n",
              "      <td>Revelry</td>\n",
              "      <td>176102</td>\n",
              "    </tr>\n",
              "    <tr>\n",
              "      <th>3317</th>\n",
              "      <td>Barry Tuckwell/Academy of St Martin-in-the-Fie...</td>\n",
              "      <td>TRLGMFJ128F4217DBE</td>\n",
              "      <td>Horn Concerto No. 4 in E flat K495: II. Romanc...</td>\n",
              "      <td>126611</td>\n",
              "    </tr>\n",
              "    <tr>\n",
              "      <th>14786</th>\n",
              "      <td>Harmonia</td>\n",
              "      <td>TRDMBIJ128F4290431</td>\n",
              "      <td>Sehr kosmisch</td>\n",
              "      <td>126333</td>\n",
              "    </tr>\n",
              "  </tbody>\n",
              "</table>\n",
              "</div>\n",
              "      <button class=\"colab-df-convert\" onclick=\"convertToInteractive('df-caba18bb-51d8-4588-b45b-a985edd2f1db')\"\n",
              "              title=\"Convert this dataframe to an interactive table.\"\n",
              "              style=\"display:none;\">\n",
              "        \n",
              "  <svg xmlns=\"http://www.w3.org/2000/svg\" height=\"24px\"viewBox=\"0 0 24 24\"\n",
              "       width=\"24px\">\n",
              "    <path d=\"M0 0h24v24H0V0z\" fill=\"none\"/>\n",
              "    <path d=\"M18.56 5.44l.94 2.06.94-2.06 2.06-.94-2.06-.94-.94-2.06-.94 2.06-2.06.94zm-11 1L8.5 8.5l.94-2.06 2.06-.94-2.06-.94L8.5 2.5l-.94 2.06-2.06.94zm10 10l.94 2.06.94-2.06 2.06-.94-2.06-.94-.94-2.06-.94 2.06-2.06.94z\"/><path d=\"M17.41 7.96l-1.37-1.37c-.4-.4-.92-.59-1.43-.59-.52 0-1.04.2-1.43.59L10.3 9.45l-7.72 7.72c-.78.78-.78 2.05 0 2.83L4 21.41c.39.39.9.59 1.41.59.51 0 1.02-.2 1.41-.59l7.78-7.78 2.81-2.81c.8-.78.8-2.07 0-2.86zM5.41 20L4 18.59l7.72-7.72 1.47 1.35L5.41 20z\"/>\n",
              "  </svg>\n",
              "      </button>\n",
              "      \n",
              "  <style>\n",
              "    .colab-df-container {\n",
              "      display:flex;\n",
              "      flex-wrap:wrap;\n",
              "      gap: 12px;\n",
              "    }\n",
              "\n",
              "    .colab-df-convert {\n",
              "      background-color: #E8F0FE;\n",
              "      border: none;\n",
              "      border-radius: 50%;\n",
              "      cursor: pointer;\n",
              "      display: none;\n",
              "      fill: #1967D2;\n",
              "      height: 32px;\n",
              "      padding: 0 0 0 0;\n",
              "      width: 32px;\n",
              "    }\n",
              "\n",
              "    .colab-df-convert:hover {\n",
              "      background-color: #E2EBFA;\n",
              "      box-shadow: 0px 1px 2px rgba(60, 64, 67, 0.3), 0px 1px 3px 1px rgba(60, 64, 67, 0.15);\n",
              "      fill: #174EA6;\n",
              "    }\n",
              "\n",
              "    [theme=dark] .colab-df-convert {\n",
              "      background-color: #3B4455;\n",
              "      fill: #D2E3FC;\n",
              "    }\n",
              "\n",
              "    [theme=dark] .colab-df-convert:hover {\n",
              "      background-color: #434B5C;\n",
              "      box-shadow: 0px 1px 3px 1px rgba(0, 0, 0, 0.15);\n",
              "      filter: drop-shadow(0px 1px 2px rgba(0, 0, 0, 0.3));\n",
              "      fill: #FFFFFF;\n",
              "    }\n",
              "  </style>\n",
              "\n",
              "      <script>\n",
              "        const buttonEl =\n",
              "          document.querySelector('#df-caba18bb-51d8-4588-b45b-a985edd2f1db button.colab-df-convert');\n",
              "        buttonEl.style.display =\n",
              "          google.colab.kernel.accessAllowed ? 'block' : 'none';\n",
              "\n",
              "        async function convertToInteractive(key) {\n",
              "          const element = document.querySelector('#df-caba18bb-51d8-4588-b45b-a985edd2f1db');\n",
              "          const dataTable =\n",
              "            await google.colab.kernel.invokeFunction('convertToInteractive',\n",
              "                                                     [key], {});\n",
              "          if (!dataTable) return;\n",
              "\n",
              "          const docLinkHtml = 'Like what you see? Visit the ' +\n",
              "            '<a target=\"_blank\" href=https://colab.research.google.com/notebooks/data_table.ipynb>data table notebook</a>'\n",
              "            + ' to learn more about interactive tables.';\n",
              "          element.innerHTML = '';\n",
              "          dataTable['output_type'] = 'display_data';\n",
              "          await google.colab.output.renderOutput(dataTable, element);\n",
              "          const docLink = document.createElement('div');\n",
              "          docLink.innerHTML = docLinkHtml;\n",
              "          element.appendChild(docLink);\n",
              "        }\n",
              "      </script>\n",
              "    </div>\n",
              "  </div>\n",
              "  "
            ]
          },
          "metadata": {},
          "execution_count": 12
        }
      ]
    },
    {
      "cell_type": "code",
      "source": [
        "#songs with the least listens\n",
        "\n",
        "merged_df = merged_df.sort_values(by = 'listen_count', ascending = True)\n",
        "merged_df.head()\n"
      ],
      "metadata": {
        "colab": {
          "base_uri": "https://localhost:8080/",
          "height": 206
        },
        "id": "m12ZFZnG1Hec",
        "outputId": "f2b1ec4d-9388-4c29-d420-988ce00def27"
      },
      "execution_count": null,
      "outputs": [
        {
          "output_type": "execute_result",
          "data": {
            "text/plain": [
              "              artist            track_id  \\\n",
              "1083      Albertucho  TROXDPE128F4234ECD   \n",
              "36481     Tony Moran  TRRXLIN12903CB3DD7   \n",
              "13306  Freaky Chakra  TRMRVJI128F148059D   \n",
              "13963       Glashaus  TRSTSSK128F92D382F   \n",
              "27077          Queen  TRAWVBR128F930A60B   \n",
              "\n",
              "                                                    name  listen_count  \n",
              "1083                       Basura en la que nacen flores            30  \n",
              "36481                                           Shine On            49  \n",
              "13306                                           Platform            52  \n",
              "13963                                   Dann bin das ich            54  \n",
              "27077  Las Palabras De Amor (The Words Of Love) (2009...            65  "
            ],
            "text/html": [
              "\n",
              "  <div id=\"df-7f443a22-f6c4-4714-98df-18cc697481e0\">\n",
              "    <div class=\"colab-df-container\">\n",
              "      <div>\n",
              "<style scoped>\n",
              "    .dataframe tbody tr th:only-of-type {\n",
              "        vertical-align: middle;\n",
              "    }\n",
              "\n",
              "    .dataframe tbody tr th {\n",
              "        vertical-align: top;\n",
              "    }\n",
              "\n",
              "    .dataframe thead th {\n",
              "        text-align: right;\n",
              "    }\n",
              "</style>\n",
              "<table border=\"1\" class=\"dataframe\">\n",
              "  <thead>\n",
              "    <tr style=\"text-align: right;\">\n",
              "      <th></th>\n",
              "      <th>artist</th>\n",
              "      <th>track_id</th>\n",
              "      <th>name</th>\n",
              "      <th>listen_count</th>\n",
              "    </tr>\n",
              "  </thead>\n",
              "  <tbody>\n",
              "    <tr>\n",
              "      <th>1083</th>\n",
              "      <td>Albertucho</td>\n",
              "      <td>TROXDPE128F4234ECD</td>\n",
              "      <td>Basura en la que nacen flores</td>\n",
              "      <td>30</td>\n",
              "    </tr>\n",
              "    <tr>\n",
              "      <th>36481</th>\n",
              "      <td>Tony Moran</td>\n",
              "      <td>TRRXLIN12903CB3DD7</td>\n",
              "      <td>Shine On</td>\n",
              "      <td>49</td>\n",
              "    </tr>\n",
              "    <tr>\n",
              "      <th>13306</th>\n",
              "      <td>Freaky Chakra</td>\n",
              "      <td>TRMRVJI128F148059D</td>\n",
              "      <td>Platform</td>\n",
              "      <td>52</td>\n",
              "    </tr>\n",
              "    <tr>\n",
              "      <th>13963</th>\n",
              "      <td>Glashaus</td>\n",
              "      <td>TRSTSSK128F92D382F</td>\n",
              "      <td>Dann bin das ich</td>\n",
              "      <td>54</td>\n",
              "    </tr>\n",
              "    <tr>\n",
              "      <th>27077</th>\n",
              "      <td>Queen</td>\n",
              "      <td>TRAWVBR128F930A60B</td>\n",
              "      <td>Las Palabras De Amor (The Words Of Love) (2009...</td>\n",
              "      <td>65</td>\n",
              "    </tr>\n",
              "  </tbody>\n",
              "</table>\n",
              "</div>\n",
              "      <button class=\"colab-df-convert\" onclick=\"convertToInteractive('df-7f443a22-f6c4-4714-98df-18cc697481e0')\"\n",
              "              title=\"Convert this dataframe to an interactive table.\"\n",
              "              style=\"display:none;\">\n",
              "        \n",
              "  <svg xmlns=\"http://www.w3.org/2000/svg\" height=\"24px\"viewBox=\"0 0 24 24\"\n",
              "       width=\"24px\">\n",
              "    <path d=\"M0 0h24v24H0V0z\" fill=\"none\"/>\n",
              "    <path d=\"M18.56 5.44l.94 2.06.94-2.06 2.06-.94-2.06-.94-.94-2.06-.94 2.06-2.06.94zm-11 1L8.5 8.5l.94-2.06 2.06-.94-2.06-.94L8.5 2.5l-.94 2.06-2.06.94zm10 10l.94 2.06.94-2.06 2.06-.94-2.06-.94-.94-2.06-.94 2.06-2.06.94z\"/><path d=\"M17.41 7.96l-1.37-1.37c-.4-.4-.92-.59-1.43-.59-.52 0-1.04.2-1.43.59L10.3 9.45l-7.72 7.72c-.78.78-.78 2.05 0 2.83L4 21.41c.39.39.9.59 1.41.59.51 0 1.02-.2 1.41-.59l7.78-7.78 2.81-2.81c.8-.78.8-2.07 0-2.86zM5.41 20L4 18.59l7.72-7.72 1.47 1.35L5.41 20z\"/>\n",
              "  </svg>\n",
              "      </button>\n",
              "      \n",
              "  <style>\n",
              "    .colab-df-container {\n",
              "      display:flex;\n",
              "      flex-wrap:wrap;\n",
              "      gap: 12px;\n",
              "    }\n",
              "\n",
              "    .colab-df-convert {\n",
              "      background-color: #E8F0FE;\n",
              "      border: none;\n",
              "      border-radius: 50%;\n",
              "      cursor: pointer;\n",
              "      display: none;\n",
              "      fill: #1967D2;\n",
              "      height: 32px;\n",
              "      padding: 0 0 0 0;\n",
              "      width: 32px;\n",
              "    }\n",
              "\n",
              "    .colab-df-convert:hover {\n",
              "      background-color: #E2EBFA;\n",
              "      box-shadow: 0px 1px 2px rgba(60, 64, 67, 0.3), 0px 1px 3px 1px rgba(60, 64, 67, 0.15);\n",
              "      fill: #174EA6;\n",
              "    }\n",
              "\n",
              "    [theme=dark] .colab-df-convert {\n",
              "      background-color: #3B4455;\n",
              "      fill: #D2E3FC;\n",
              "    }\n",
              "\n",
              "    [theme=dark] .colab-df-convert:hover {\n",
              "      background-color: #434B5C;\n",
              "      box-shadow: 0px 1px 3px 1px rgba(0, 0, 0, 0.15);\n",
              "      filter: drop-shadow(0px 1px 2px rgba(0, 0, 0, 0.3));\n",
              "      fill: #FFFFFF;\n",
              "    }\n",
              "  </style>\n",
              "\n",
              "      <script>\n",
              "        const buttonEl =\n",
              "          document.querySelector('#df-7f443a22-f6c4-4714-98df-18cc697481e0 button.colab-df-convert');\n",
              "        buttonEl.style.display =\n",
              "          google.colab.kernel.accessAllowed ? 'block' : 'none';\n",
              "\n",
              "        async function convertToInteractive(key) {\n",
              "          const element = document.querySelector('#df-7f443a22-f6c4-4714-98df-18cc697481e0');\n",
              "          const dataTable =\n",
              "            await google.colab.kernel.invokeFunction('convertToInteractive',\n",
              "                                                     [key], {});\n",
              "          if (!dataTable) return;\n",
              "\n",
              "          const docLinkHtml = 'Like what you see? Visit the ' +\n",
              "            '<a target=\"_blank\" href=https://colab.research.google.com/notebooks/data_table.ipynb>data table notebook</a>'\n",
              "            + ' to learn more about interactive tables.';\n",
              "          element.innerHTML = '';\n",
              "          dataTable['output_type'] = 'display_data';\n",
              "          await google.colab.output.renderOutput(dataTable, element);\n",
              "          const docLink = document.createElement('div');\n",
              "          docLink.innerHTML = docLinkHtml;\n",
              "          element.appendChild(docLink);\n",
              "        }\n",
              "      </script>\n",
              "    </div>\n",
              "  </div>\n",
              "  "
            ]
          },
          "metadata": {},
          "execution_count": 13
        }
      ]
    },
    {
      "cell_type": "code",
      "source": [
        "#artist with the most listens\n",
        "\n",
        "merged_df2 = merge_df.groupby(['artist'])['listen_count'].sum().reset_index()\n",
        "merged_df2 = merged_df2.sort_values(by = 'listen_count', ascending = False)\n",
        "merged_df2 = merged_df2.head()"
      ],
      "metadata": {
        "id": "X5gqugMf1ZIW"
      },
      "execution_count": null,
      "outputs": []
    },
    {
      "cell_type": "code",
      "source": [
        "x = sns.barplot(data=merged_df2, x='artist', y='listen_count', color ='#b445ff')\n",
        "plt.xlabel('Artist', fontsize=16,);\n",
        "plt.ylabel('Listen Count', fontsize=16);\n",
        "plt.title('Top 5 Artists Listen by Count', fontsize=20)\n",
        "plt.tick_params(axis='x', which='major', labelsize=8)\n",
        "\n",
        "legend = x.legend()\n",
        "frame = legend.get_frame()\n",
        "frame.set_facecolor('blue')"
      ],
      "metadata": {
        "colab": {
          "base_uri": "https://localhost:8080/",
          "height": 322
        },
        "id": "LTwLGnghVNkn",
        "outputId": "36b2bd24-db5a-468b-e508-ec411c3fa604"
      },
      "execution_count": null,
      "outputs": [
        {
          "output_type": "stream",
          "name": "stderr",
          "text": [
            "WARNING:matplotlib.legend:No handles with labels found to put in legend.\n"
          ]
        },
        {
          "output_type": "display_data",
          "data": {
            "text/plain": [
              "<Figure size 432x288 with 1 Axes>"
            ],
            "image/png": "[encoded data removed]"
          },
          "metadata": {
            "needs_background": "light"
          }
        }
      ]
    },
    {
      "cell_type": "code",
      "source": [
        "#artists that appear the most(Most frquently listened to)\n",
        "\n",
        "merged_df3 = merge_df.groupby(['artist']).size().reset_index()\n",
        "merged_df3.columns = ['artist', 'count']\n",
        "merged_df3.sort_values(by = 'count', ascending = False, inplace= True)\n",
        "merged_df3.head()"
      ],
      "metadata": {
        "colab": {
          "base_uri": "https://localhost:8080/",
          "height": 206
        },
        "id": "BD-jZTkJ2iUp",
        "outputId": "35478abe-a8e0-498c-b8a6-819b25545fba"
      },
      "execution_count": null,
      "outputs": [
        {
          "output_type": "execute_result",
          "data": {
            "text/plain": [
              "              artist   count\n",
              "1979        Coldplay  140440\n",
              "5131   Kings Of Leon  100617\n",
              "8990  The Black Keys   96369\n",
              "6530            Muse   89449\n",
              "4278    Jack Johnson   81052"
            ],
            "text/html": [
              "\n",
              "  <div id=\"df-07965519-e47d-457f-8bf4-20941a64447c\">\n",
              "    <div class=\"colab-df-container\">\n",
              "      <div>\n",
              "<style scoped>\n",
              "    .dataframe tbody tr th:only-of-type {\n",
              "        vertical-align: middle;\n",
              "    }\n",
              "\n",
              "    .dataframe tbody tr th {\n",
              "        vertical-align: top;\n",
              "    }\n",
              "\n",
              "    .dataframe thead th {\n",
              "        text-align: right;\n",
              "    }\n",
              "</style>\n",
              "<table border=\"1\" class=\"dataframe\">\n",
              "  <thead>\n",
              "    <tr style=\"text-align: right;\">\n",
              "      <th></th>\n",
              "      <th>artist</th>\n",
              "      <th>count</th>\n",
              "    </tr>\n",
              "  </thead>\n",
              "  <tbody>\n",
              "    <tr>\n",
              "      <th>1979</th>\n",
              "      <td>Coldplay</td>\n",
              "      <td>140440</td>\n",
              "    </tr>\n",
              "    <tr>\n",
              "      <th>5131</th>\n",
              "      <td>Kings Of Leon</td>\n",
              "      <td>100617</td>\n",
              "    </tr>\n",
              "    <tr>\n",
              "      <th>8990</th>\n",
              "      <td>The Black Keys</td>\n",
              "      <td>96369</td>\n",
              "    </tr>\n",
              "    <tr>\n",
              "      <th>6530</th>\n",
              "      <td>Muse</td>\n",
              "      <td>89449</td>\n",
              "    </tr>\n",
              "    <tr>\n",
              "      <th>4278</th>\n",
              "      <td>Jack Johnson</td>\n",
              "      <td>81052</td>\n",
              "    </tr>\n",
              "  </tbody>\n",
              "</table>\n",
              "</div>\n",
              "      <button class=\"colab-df-convert\" onclick=\"convertToInteractive('df-07965519-e47d-457f-8bf4-20941a64447c')\"\n",
              "              title=\"Convert this dataframe to an interactive table.\"\n",
              "              style=\"display:none;\">\n",
              "        \n",
              "  <svg xmlns=\"http://www.w3.org/2000/svg\" height=\"24px\"viewBox=\"0 0 24 24\"\n",
              "       width=\"24px\">\n",
              "    <path d=\"M0 0h24v24H0V0z\" fill=\"none\"/>\n",
              "    <path d=\"M18.56 5.44l.94 2.06.94-2.06 2.06-.94-2.06-.94-.94-2.06-.94 2.06-2.06.94zm-11 1L8.5 8.5l.94-2.06 2.06-.94-2.06-.94L8.5 2.5l-.94 2.06-2.06.94zm10 10l.94 2.06.94-2.06 2.06-.94-2.06-.94-.94-2.06-.94 2.06-2.06.94z\"/><path d=\"M17.41 7.96l-1.37-1.37c-.4-.4-.92-.59-1.43-.59-.52 0-1.04.2-1.43.59L10.3 9.45l-7.72 7.72c-.78.78-.78 2.05 0 2.83L4 21.41c.39.39.9.59 1.41.59.51 0 1.02-.2 1.41-.59l7.78-7.78 2.81-2.81c.8-.78.8-2.07 0-2.86zM5.41 20L4 18.59l7.72-7.72 1.47 1.35L5.41 20z\"/>\n",
              "  </svg>\n",
              "      </button>\n",
              "      \n",
              "  <style>\n",
              "    .colab-df-container {\n",
              "      display:flex;\n",
              "      flex-wrap:wrap;\n",
              "      gap: 12px;\n",
              "    }\n",
              "\n",
              "    .colab-df-convert {\n",
              "      background-color: #E8F0FE;\n",
              "      border: none;\n",
              "      border-radius: 50%;\n",
              "      cursor: pointer;\n",
              "      display: none;\n",
              "      fill: #1967D2;\n",
              "      height: 32px;\n",
              "      padding: 0 0 0 0;\n",
              "      width: 32px;\n",
              "    }\n",
              "\n",
              "    .colab-df-convert:hover {\n",
              "      background-color: #E2EBFA;\n",
              "      box-shadow: 0px 1px 2px rgba(60, 64, 67, 0.3), 0px 1px 3px 1px rgba(60, 64, 67, 0.15);\n",
              "      fill: #174EA6;\n",
              "    }\n",
              "\n",
              "    [theme=dark] .colab-df-convert {\n",
              "      background-color: #3B4455;\n",
              "      fill: #D2E3FC;\n",
              "    }\n",
              "\n",
              "    [theme=dark] .colab-df-convert:hover {\n",
              "      background-color: #434B5C;\n",
              "      box-shadow: 0px 1px 3px 1px rgba(0, 0, 0, 0.15);\n",
              "      filter: drop-shadow(0px 1px 2px rgba(0, 0, 0, 0.3));\n",
              "      fill: #FFFFFF;\n",
              "    }\n",
              "  </style>\n",
              "\n",
              "      <script>\n",
              "        const buttonEl =\n",
              "          document.querySelector('#df-07965519-e47d-457f-8bf4-20941a64447c button.colab-df-convert');\n",
              "        buttonEl.style.display =\n",
              "          google.colab.kernel.accessAllowed ? 'block' : 'none';\n",
              "\n",
              "        async function convertToInteractive(key) {\n",
              "          const element = document.querySelector('#df-07965519-e47d-457f-8bf4-20941a64447c');\n",
              "          const dataTable =\n",
              "            await google.colab.kernel.invokeFunction('convertToInteractive',\n",
              "                                                     [key], {});\n",
              "          if (!dataTable) return;\n",
              "\n",
              "          const docLinkHtml = 'Like what you see? Visit the ' +\n",
              "            '<a target=\"_blank\" href=https://colab.research.google.com/notebooks/data_table.ipynb>data table notebook</a>'\n",
              "            + ' to learn more about interactive tables.';\n",
              "          element.innerHTML = '';\n",
              "          dataTable['output_type'] = 'display_data';\n",
              "          await google.colab.output.renderOutput(dataTable, element);\n",
              "          const docLink = document.createElement('div');\n",
              "          docLink.innerHTML = docLinkHtml;\n",
              "          element.appendChild(docLink);\n",
              "        }\n",
              "      </script>\n",
              "    </div>\n",
              "  </div>\n",
              "  "
            ]
          },
          "metadata": {},
          "execution_count": 16
        }
      ]
    },
    {
      "cell_type": "code",
      "source": [
        "#graph distribution of listens for above users^"
      ],
      "metadata": {
        "id": "nJYCIJE9goQF"
      },
      "execution_count": null,
      "outputs": []
    },
    {
      "cell_type": "code",
      "source": [
        "#artist with most songs\n",
        "#not sure about this - may be counting duplicates of the same song(want unique songs)\n",
        "\n",
        "merged_df4 = merge_df['artist'].value_counts()\n",
        "merged_df4.head()"
      ],
      "metadata": {
        "colab": {
          "base_uri": "https://localhost:8080/"
        },
        "id": "5m-bVoQs7yuM",
        "outputId": "e7582f77-751d-4050-e33e-ed149f02d4b5"
      },
      "execution_count": null,
      "outputs": [
        {
          "output_type": "execute_result",
          "data": {
            "text/plain": [
              "Coldplay          140440\n",
              "Kings Of Leon     100617\n",
              "The Black Keys     96369\n",
              "Muse               89449\n",
              "Jack Johnson       81052\n",
              "Name: artist, dtype: int64"
            ]
          },
          "metadata": {},
          "execution_count": 18
        }
      ]
    },
    {
      "cell_type": "code",
      "source": [
        "#user with most listens (how many?)\n",
        "\n",
        "merged_df5 = merge_df.groupby('user_id')['listen_count'].sum().reset_index()\n",
        "merged_df5.columns = ['user_id', 'listen_count_sum']\n",
        "merged_df5.sort_values(by = 'listen_count_sum', ascending = False, inplace = True)\n",
        "merged_df5.head()"
      ],
      "metadata": {
        "colab": {
          "base_uri": "https://localhost:8080/",
          "height": 206
        },
        "id": "jhH3Rn0W_N2U",
        "outputId": "8dd59d07-47c9-4128-b2b6-98a5aaf557ac"
      },
      "execution_count": null,
      "outputs": [
        {
          "output_type": "execute_result",
          "data": {
            "text/plain": [
              "       user_id  listen_count_sum\n",
              "3574      3574             12827\n",
              "6841      6841              9175\n",
              "25152    25153              8443\n",
              "64479    64481              7094\n",
              "15866    15866              5370"
            ],
            "text/html": [
              "\n",
              "  <div id=\"df-8dac32f0-c08b-4135-8101-1aed902b531a\">\n",
              "    <div class=\"colab-df-container\">\n",
              "      <div>\n",
              "<style scoped>\n",
              "    .dataframe tbody tr th:only-of-type {\n",
              "        vertical-align: middle;\n",
              "    }\n",
              "\n",
              "    .dataframe tbody tr th {\n",
              "        vertical-align: top;\n",
              "    }\n",
              "\n",
              "    .dataframe thead th {\n",
              "        text-align: right;\n",
              "    }\n",
              "</style>\n",
              "<table border=\"1\" class=\"dataframe\">\n",
              "  <thead>\n",
              "    <tr style=\"text-align: right;\">\n",
              "      <th></th>\n",
              "      <th>user_id</th>\n",
              "      <th>listen_count_sum</th>\n",
              "    </tr>\n",
              "  </thead>\n",
              "  <tbody>\n",
              "    <tr>\n",
              "      <th>3574</th>\n",
              "      <td>3574</td>\n",
              "      <td>12827</td>\n",
              "    </tr>\n",
              "    <tr>\n",
              "      <th>6841</th>\n",
              "      <td>6841</td>\n",
              "      <td>9175</td>\n",
              "    </tr>\n",
              "    <tr>\n",
              "      <th>25152</th>\n",
              "      <td>25153</td>\n",
              "      <td>8443</td>\n",
              "    </tr>\n",
              "    <tr>\n",
              "      <th>64479</th>\n",
              "      <td>64481</td>\n",
              "      <td>7094</td>\n",
              "    </tr>\n",
              "    <tr>\n",
              "      <th>15866</th>\n",
              "      <td>15866</td>\n",
              "      <td>5370</td>\n",
              "    </tr>\n",
              "  </tbody>\n",
              "</table>\n",
              "</div>\n",
              "      <button class=\"colab-df-convert\" onclick=\"convertToInteractive('df-8dac32f0-c08b-4135-8101-1aed902b531a')\"\n",
              "              title=\"Convert this dataframe to an interactive table.\"\n",
              "              style=\"display:none;\">\n",
              "        \n",
              "  <svg xmlns=\"http://www.w3.org/2000/svg\" height=\"24px\"viewBox=\"0 0 24 24\"\n",
              "       width=\"24px\">\n",
              "    <path d=\"M0 0h24v24H0V0z\" fill=\"none\"/>\n",
              "    <path d=\"M18.56 5.44l.94 2.06.94-2.06 2.06-.94-2.06-.94-.94-2.06-.94 2.06-2.06.94zm-11 1L8.5 8.5l.94-2.06 2.06-.94-2.06-.94L8.5 2.5l-.94 2.06-2.06.94zm10 10l.94 2.06.94-2.06 2.06-.94-2.06-.94-.94-2.06-.94 2.06-2.06.94z\"/><path d=\"M17.41 7.96l-1.37-1.37c-.4-.4-.92-.59-1.43-.59-.52 0-1.04.2-1.43.59L10.3 9.45l-7.72 7.72c-.78.78-.78 2.05 0 2.83L4 21.41c.39.39.9.59 1.41.59.51 0 1.02-.2 1.41-.59l7.78-7.78 2.81-2.81c.8-.78.8-2.07 0-2.86zM5.41 20L4 18.59l7.72-7.72 1.47 1.35L5.41 20z\"/>\n",
              "  </svg>\n",
              "      </button>\n",
              "      \n",
              "  <style>\n",
              "    .colab-df-container {\n",
              "      display:flex;\n",
              "      flex-wrap:wrap;\n",
              "      gap: 12px;\n",
              "    }\n",
              "\n",
              "    .colab-df-convert {\n",
              "      background-color: #E8F0FE;\n",
              "      border: none;\n",
              "      border-radius: 50%;\n",
              "      cursor: pointer;\n",
              "      display: none;\n",
              "      fill: #1967D2;\n",
              "      height: 32px;\n",
              "      padding: 0 0 0 0;\n",
              "      width: 32px;\n",
              "    }\n",
              "\n",
              "    .colab-df-convert:hover {\n",
              "      background-color: #E2EBFA;\n",
              "      box-shadow: 0px 1px 2px rgba(60, 64, 67, 0.3), 0px 1px 3px 1px rgba(60, 64, 67, 0.15);\n",
              "      fill: #174EA6;\n",
              "    }\n",
              "\n",
              "    [theme=dark] .colab-df-convert {\n",
              "      background-color: #3B4455;\n",
              "      fill: #D2E3FC;\n",
              "    }\n",
              "\n",
              "    [theme=dark] .colab-df-convert:hover {\n",
              "      background-color: #434B5C;\n",
              "      box-shadow: 0px 1px 3px 1px rgba(0, 0, 0, 0.15);\n",
              "      filter: drop-shadow(0px 1px 2px rgba(0, 0, 0, 0.3));\n",
              "      fill: #FFFFFF;\n",
              "    }\n",
              "  </style>\n",
              "\n",
              "      <script>\n",
              "        const buttonEl =\n",
              "          document.querySelector('#df-8dac32f0-c08b-4135-8101-1aed902b531a button.colab-df-convert');\n",
              "        buttonEl.style.display =\n",
              "          google.colab.kernel.accessAllowed ? 'block' : 'none';\n",
              "\n",
              "        async function convertToInteractive(key) {\n",
              "          const element = document.querySelector('#df-8dac32f0-c08b-4135-8101-1aed902b531a');\n",
              "          const dataTable =\n",
              "            await google.colab.kernel.invokeFunction('convertToInteractive',\n",
              "                                                     [key], {});\n",
              "          if (!dataTable) return;\n",
              "\n",
              "          const docLinkHtml = 'Like what you see? Visit the ' +\n",
              "            '<a target=\"_blank\" href=https://colab.research.google.com/notebooks/data_table.ipynb>data table notebook</a>'\n",
              "            + ' to learn more about interactive tables.';\n",
              "          element.innerHTML = '';\n",
              "          dataTable['output_type'] = 'display_data';\n",
              "          await google.colab.output.renderOutput(dataTable, element);\n",
              "          const docLink = document.createElement('div');\n",
              "          docLink.innerHTML = docLinkHtml;\n",
              "          element.appendChild(docLink);\n",
              "        }\n",
              "      </script>\n",
              "    </div>\n",
              "  </div>\n",
              "  "
            ]
          },
          "metadata": {},
          "execution_count": 19
        }
      ]
    },
    {
      "cell_type": "code",
      "source": [
        "#least popular song of most popular artist\n",
        "\n",
        "top_artists = ['Kings Of Leon', 'Coldplay', 'The Black Keys', 'Muse', 'Florence + The Machine']\n",
        "merged_df6 = merge_df.groupby(['artist', 'name'])['listen_count'].sum().reset_index()\n",
        "merged_df6.sort_values(by = 'listen_count', ascending = False, inplace = True)\n",
        "rslt_df = merged_df6[merged_df6['artist'].isin(top_artists)]\n",
        "rslt_df = rslt_df.groupby('artist').min()\n",
        "rslt_df.head()"
      ],
      "metadata": {
        "colab": {
          "base_uri": "https://localhost:8080/",
          "height": 238
        },
        "id": "RSpF2qOdB_7o",
        "outputId": "7ef6037e-cd0c-4c0f-b2c4-d87665daaf66"
      },
      "execution_count": null,
      "outputs": [
        {
          "output_type": "execute_result",
          "data": {
            "text/plain": [
              "                                                     name  listen_count\n",
              "artist                                                                 \n",
              "Coldplay                                             1.36           170\n",
              "Florence + The Machine  Are You Hurting The One You Love?           945\n",
              "Kings Of Leon                                     Arizona           357\n",
              "Muse                       Agitated [Live From Le Zenith]           220\n",
              "The Black Keys                          10 A.M. Automatic           488"
            ],
            "text/html": [
              "\n",
              "  <div id=\"df-cf724a78-b162-42ed-8389-304eda51031e\">\n",
              "    <div class=\"colab-df-container\">\n",
              "      <div>\n",
              "<style scoped>\n",
              "    .dataframe tbody tr th:only-of-type {\n",
              "        vertical-align: middle;\n",
              "    }\n",
              "\n",
              "    .dataframe tbody tr th {\n",
              "        vertical-align: top;\n",
              "    }\n",
              "\n",
              "    .dataframe thead th {\n",
              "        text-align: right;\n",
              "    }\n",
              "</style>\n",
              "<table border=\"1\" class=\"dataframe\">\n",
              "  <thead>\n",
              "    <tr style=\"text-align: right;\">\n",
              "      <th></th>\n",
              "      <th>name</th>\n",
              "      <th>listen_count</th>\n",
              "    </tr>\n",
              "    <tr>\n",
              "      <th>artist</th>\n",
              "      <th></th>\n",
              "      <th></th>\n",
              "    </tr>\n",
              "  </thead>\n",
              "  <tbody>\n",
              "    <tr>\n",
              "      <th>Coldplay</th>\n",
              "      <td>1.36</td>\n",
              "      <td>170</td>\n",
              "    </tr>\n",
              "    <tr>\n",
              "      <th>Florence + The Machine</th>\n",
              "      <td>Are You Hurting The One You Love?</td>\n",
              "      <td>945</td>\n",
              "    </tr>\n",
              "    <tr>\n",
              "      <th>Kings Of Leon</th>\n",
              "      <td>Arizona</td>\n",
              "      <td>357</td>\n",
              "    </tr>\n",
              "    <tr>\n",
              "      <th>Muse</th>\n",
              "      <td>Agitated [Live From Le Zenith]</td>\n",
              "      <td>220</td>\n",
              "    </tr>\n",
              "    <tr>\n",
              "      <th>The Black Keys</th>\n",
              "      <td>10 A.M. Automatic</td>\n",
              "      <td>488</td>\n",
              "    </tr>\n",
              "  </tbody>\n",
              "</table>\n",
              "</div>\n",
              "      <button class=\"colab-df-convert\" onclick=\"convertToInteractive('df-cf724a78-b162-42ed-8389-304eda51031e')\"\n",
              "              title=\"Convert this dataframe to an interactive table.\"\n",
              "              style=\"display:none;\">\n",
              "        \n",
              "  <svg xmlns=\"http://www.w3.org/2000/svg\" height=\"24px\"viewBox=\"0 0 24 24\"\n",
              "       width=\"24px\">\n",
              "    <path d=\"M0 0h24v24H0V0z\" fill=\"none\"/>\n",
              "    <path d=\"M18.56 5.44l.94 2.06.94-2.06 2.06-.94-2.06-.94-.94-2.06-.94 2.06-2.06.94zm-11 1L8.5 8.5l.94-2.06 2.06-.94-2.06-.94L8.5 2.5l-.94 2.06-2.06.94zm10 10l.94 2.06.94-2.06 2.06-.94-2.06-.94-.94-2.06-.94 2.06-2.06.94z\"/><path d=\"M17.41 7.96l-1.37-1.37c-.4-.4-.92-.59-1.43-.59-.52 0-1.04.2-1.43.59L10.3 9.45l-7.72 7.72c-.78.78-.78 2.05 0 2.83L4 21.41c.39.39.9.59 1.41.59.51 0 1.02-.2 1.41-.59l7.78-7.78 2.81-2.81c.8-.78.8-2.07 0-2.86zM5.41 20L4 18.59l7.72-7.72 1.47 1.35L5.41 20z\"/>\n",
              "  </svg>\n",
              "      </button>\n",
              "      \n",
              "  <style>\n",
              "    .colab-df-container {\n",
              "      display:flex;\n",
              "      flex-wrap:wrap;\n",
              "      gap: 12px;\n",
              "    }\n",
              "\n",
              "    .colab-df-convert {\n",
              "      background-color: #E8F0FE;\n",
              "      border: none;\n",
              "      border-radius: 50%;\n",
              "      cursor: pointer;\n",
              "      display: none;\n",
              "      fill: #1967D2;\n",
              "      height: 32px;\n",
              "      padding: 0 0 0 0;\n",
              "      width: 32px;\n",
              "    }\n",
              "\n",
              "    .colab-df-convert:hover {\n",
              "      background-color: #E2EBFA;\n",
              "      box-shadow: 0px 1px 2px rgba(60, 64, 67, 0.3), 0px 1px 3px 1px rgba(60, 64, 67, 0.15);\n",
              "      fill: #174EA6;\n",
              "    }\n",
              "\n",
              "    [theme=dark] .colab-df-convert {\n",
              "      background-color: #3B4455;\n",
              "      fill: #D2E3FC;\n",
              "    }\n",
              "\n",
              "    [theme=dark] .colab-df-convert:hover {\n",
              "      background-color: #434B5C;\n",
              "      box-shadow: 0px 1px 3px 1px rgba(0, 0, 0, 0.15);\n",
              "      filter: drop-shadow(0px 1px 2px rgba(0, 0, 0, 0.3));\n",
              "      fill: #FFFFFF;\n",
              "    }\n",
              "  </style>\n",
              "\n",
              "      <script>\n",
              "        const buttonEl =\n",
              "          document.querySelector('#df-cf724a78-b162-42ed-8389-304eda51031e button.colab-df-convert');\n",
              "        buttonEl.style.display =\n",
              "          google.colab.kernel.accessAllowed ? 'block' : 'none';\n",
              "\n",
              "        async function convertToInteractive(key) {\n",
              "          const element = document.querySelector('#df-cf724a78-b162-42ed-8389-304eda51031e');\n",
              "          const dataTable =\n",
              "            await google.colab.kernel.invokeFunction('convertToInteractive',\n",
              "                                                     [key], {});\n",
              "          if (!dataTable) return;\n",
              "\n",
              "          const docLinkHtml = 'Like what you see? Visit the ' +\n",
              "            '<a target=\"_blank\" href=https://colab.research.google.com/notebooks/data_table.ipynb>data table notebook</a>'\n",
              "            + ' to learn more about interactive tables.';\n",
              "          element.innerHTML = '';\n",
              "          dataTable['output_type'] = 'display_data';\n",
              "          await google.colab.output.renderOutput(dataTable, element);\n",
              "          const docLink = document.createElement('div');\n",
              "          docLink.innerHTML = docLinkHtml;\n",
              "          element.appendChild(docLink);\n",
              "        }\n",
              "      </script>\n",
              "    </div>\n",
              "  </div>\n",
              "  "
            ]
          },
          "metadata": {},
          "execution_count": 20
        }
      ]
    },
    {
      "cell_type": "code",
      "source": [
        "#songs with most unique listeners\n",
        "#not sure abt this\n",
        "\n",
        "merge_df['user_id'].nunique()\n",
        "merged_df7 = merge_df.groupby(['artist','name', 'user_id'])['listen_count'].sum().reset_index().groupby(['name', 'artist']).size().reset_index()\n",
        "merged_df7.columns = ['artist','name', 'unique_listener_count']\n",
        "merged_df7.sort_values(by = 'unique_listener_count', ascending = False, inplace= True)\n",
        "merged_df7.head()"
      ],
      "metadata": {
        "colab": {
          "base_uri": "https://localhost:8080/",
          "height": 206
        },
        "id": "ky_IcrQYH6DU",
        "outputId": "c091a2ca-73c4-465d-bf1d-88e9c6868258"
      },
      "execution_count": null,
      "outputs": [
        {
          "output_type": "execute_result",
          "data": {
            "text/plain": [
              "                               artist                    name  \\\n",
              "27322                   Sehr kosmisch                Harmonia   \n",
              "8044   Dog Days Are Over (Radio Edit)  Florence + The Machine   \n",
              "27266                         Secrets             OneRepublic   \n",
              "26015                         Revelry           Kings Of Leon   \n",
              "34884                            Undo                   Björk   \n",
              "\n",
              "       unique_listener_count  \n",
              "27322                  18949  \n",
              "8044                   17930  \n",
              "27266                  15394  \n",
              "26015                  15214  \n",
              "34884                  14916  "
            ],
            "text/html": [
              "\n",
              "  <div id=\"df-246503ba-0cb9-4bc5-92b5-488ff96ded30\">\n",
              "    <div class=\"colab-df-container\">\n",
              "      <div>\n",
              "<style scoped>\n",
              "    .dataframe tbody tr th:only-of-type {\n",
              "        vertical-align: middle;\n",
              "    }\n",
              "\n",
              "    .dataframe tbody tr th {\n",
              "        vertical-align: top;\n",
              "    }\n",
              "\n",
              "    .dataframe thead th {\n",
              "        text-align: right;\n",
              "    }\n",
              "</style>\n",
              "<table border=\"1\" class=\"dataframe\">\n",
              "  <thead>\n",
              "    <tr style=\"text-align: right;\">\n",
              "      <th></th>\n",
              "      <th>artist</th>\n",
              "      <th>name</th>\n",
              "      <th>unique_listener_count</th>\n",
              "    </tr>\n",
              "  </thead>\n",
              "  <tbody>\n",
              "    <tr>\n",
              "      <th>27322</th>\n",
              "      <td>Sehr kosmisch</td>\n",
              "      <td>Harmonia</td>\n",
              "      <td>18949</td>\n",
              "    </tr>\n",
              "    <tr>\n",
              "      <th>8044</th>\n",
              "      <td>Dog Days Are Over (Radio Edit)</td>\n",
              "      <td>Florence + The Machine</td>\n",
              "      <td>17930</td>\n",
              "    </tr>\n",
              "    <tr>\n",
              "      <th>27266</th>\n",
              "      <td>Secrets</td>\n",
              "      <td>OneRepublic</td>\n",
              "      <td>15394</td>\n",
              "    </tr>\n",
              "    <tr>\n",
              "      <th>26015</th>\n",
              "      <td>Revelry</td>\n",
              "      <td>Kings Of Leon</td>\n",
              "      <td>15214</td>\n",
              "    </tr>\n",
              "    <tr>\n",
              "      <th>34884</th>\n",
              "      <td>Undo</td>\n",
              "      <td>Björk</td>\n",
              "      <td>14916</td>\n",
              "    </tr>\n",
              "  </tbody>\n",
              "</table>\n",
              "</div>\n",
              "      <button class=\"colab-df-convert\" onclick=\"convertToInteractive('df-246503ba-0cb9-4bc5-92b5-488ff96ded30')\"\n",
              "              title=\"Convert this dataframe to an interactive table.\"\n",
              "              style=\"display:none;\">\n",
              "        \n",
              "  <svg xmlns=\"http://www.w3.org/2000/svg\" height=\"24px\"viewBox=\"0 0 24 24\"\n",
              "       width=\"24px\">\n",
              "    <path d=\"M0 0h24v24H0V0z\" fill=\"none\"/>\n",
              "    <path d=\"M18.56 5.44l.94 2.06.94-2.06 2.06-.94-2.06-.94-.94-2.06-.94 2.06-2.06.94zm-11 1L8.5 8.5l.94-2.06 2.06-.94-2.06-.94L8.5 2.5l-.94 2.06-2.06.94zm10 10l.94 2.06.94-2.06 2.06-.94-2.06-.94-.94-2.06-.94 2.06-2.06.94z\"/><path d=\"M17.41 7.96l-1.37-1.37c-.4-.4-.92-.59-1.43-.59-.52 0-1.04.2-1.43.59L10.3 9.45l-7.72 7.72c-.78.78-.78 2.05 0 2.83L4 21.41c.39.39.9.59 1.41.59.51 0 1.02-.2 1.41-.59l7.78-7.78 2.81-2.81c.8-.78.8-2.07 0-2.86zM5.41 20L4 18.59l7.72-7.72 1.47 1.35L5.41 20z\"/>\n",
              "  </svg>\n",
              "      </button>\n",
              "      \n",
              "  <style>\n",
              "    .colab-df-container {\n",
              "      display:flex;\n",
              "      flex-wrap:wrap;\n",
              "      gap: 12px;\n",
              "    }\n",
              "\n",
              "    .colab-df-convert {\n",
              "      background-color: #E8F0FE;\n",
              "      border: none;\n",
              "      border-radius: 50%;\n",
              "      cursor: pointer;\n",
              "      display: none;\n",
              "      fill: #1967D2;\n",
              "      height: 32px;\n",
              "      padding: 0 0 0 0;\n",
              "      width: 32px;\n",
              "    }\n",
              "\n",
              "    .colab-df-convert:hover {\n",
              "      background-color: #E2EBFA;\n",
              "      box-shadow: 0px 1px 2px rgba(60, 64, 67, 0.3), 0px 1px 3px 1px rgba(60, 64, 67, 0.15);\n",
              "      fill: #174EA6;\n",
              "    }\n",
              "\n",
              "    [theme=dark] .colab-df-convert {\n",
              "      background-color: #3B4455;\n",
              "      fill: #D2E3FC;\n",
              "    }\n",
              "\n",
              "    [theme=dark] .colab-df-convert:hover {\n",
              "      background-color: #434B5C;\n",
              "      box-shadow: 0px 1px 3px 1px rgba(0, 0, 0, 0.15);\n",
              "      filter: drop-shadow(0px 1px 2px rgba(0, 0, 0, 0.3));\n",
              "      fill: #FFFFFF;\n",
              "    }\n",
              "  </style>\n",
              "\n",
              "      <script>\n",
              "        const buttonEl =\n",
              "          document.querySelector('#df-246503ba-0cb9-4bc5-92b5-488ff96ded30 button.colab-df-convert');\n",
              "        buttonEl.style.display =\n",
              "          google.colab.kernel.accessAllowed ? 'block' : 'none';\n",
              "\n",
              "        async function convertToInteractive(key) {\n",
              "          const element = document.querySelector('#df-246503ba-0cb9-4bc5-92b5-488ff96ded30');\n",
              "          const dataTable =\n",
              "            await google.colab.kernel.invokeFunction('convertToInteractive',\n",
              "                                                     [key], {});\n",
              "          if (!dataTable) return;\n",
              "\n",
              "          const docLinkHtml = 'Like what you see? Visit the ' +\n",
              "            '<a target=\"_blank\" href=https://colab.research.google.com/notebooks/data_table.ipynb>data table notebook</a>'\n",
              "            + ' to learn more about interactive tables.';\n",
              "          element.innerHTML = '';\n",
              "          dataTable['output_type'] = 'display_data';\n",
              "          await google.colab.output.renderOutput(dataTable, element);\n",
              "          const docLink = document.createElement('div');\n",
              "          docLink.innerHTML = docLinkHtml;\n",
              "          element.appendChild(docLink);\n",
              "        }\n",
              "      </script>\n",
              "    </div>\n",
              "  </div>\n",
              "  "
            ]
          },
          "metadata": {},
          "execution_count": 21
        }
      ]
    },
    {
      "cell_type": "markdown",
      "source": [
        "## Loading Data"
      ],
      "metadata": {
        "id": "RtLxFlkyFtVH"
      }
    },
    {
      "cell_type": "code",
      "source": [
        "# Load maps from JSON\n",
        "with open(path.join(BASE_PATH, \"song_id_map.json\")) as f:\n",
        "  songIdMap = json.load(f)\n",
        "\n",
        "with open(path.join(BASE_PATH, \"user_id_map.json\")) as f:\n",
        "  userIdMap = json.load(f)\n",
        "\n",
        "with open(path.join(BASE_PATH, \"song_info_map.json\")) as f:\n",
        "  songInfoMap = json.load(f)"
      ],
      "metadata": {
        "id": "yXO0T536FrRG"
      },
      "execution_count": null,
      "outputs": []
    },
    {
      "cell_type": "code",
      "source": [
        "m, n = len(userIdMap), len(songIdMap)"
      ],
      "metadata": {
        "id": "6QmIMhDrF9Cm"
      },
      "execution_count": null,
      "outputs": []
    },
    {
      "cell_type": "code",
      "source": [
        "# Load listen counts\n",
        "ratings = np.zeros((m,n), dtype=np.uint8)\n",
        "\n",
        "with open(path.join(BASE_PATH, \"train_triplets.csv\")) as f:\n",
        "  reader = csv.reader(f)\n",
        "  next(reader)\n",
        "\n",
        "  for userId, songId, listenCount in reader:\n",
        "    userId, songId, listenCount = int(userId), int(songId), int(listenCount)\n",
        "\n",
        "    # Clamp listen count to 255 b/c that is maximum 8-bit value\n",
        "    listenCount = min(listenCount, 255)\n",
        "    ratings[userId][songId] = listenCount"
      ],
      "metadata": {
        "id": "-ncAn1WHGEjb"
      },
      "execution_count": null,
      "outputs": []
    },
    {
      "cell_type": "markdown",
      "source": [
        "## Similarity Functions"
      ],
      "metadata": {
        "id": "kLNMRTWfYrMb"
      }
    },
    {
      "cell_type": "code",
      "source": [
        "def cosine_similarity(a, b):\n",
        "  magA = np.linalg.norm(a)\n",
        "  magB = np.linalg.norm(b)\n",
        "\n",
        "  if magA == 0 or magB == 0:\n",
        "    return 0\n",
        "  else:\n",
        "    return a.dot(b) / (magA * magB)"
      ],
      "metadata": {
        "id": "_mvWf-9tQSON"
      },
      "execution_count": null,
      "outputs": []
    },
    {
      "cell_type": "code",
      "source": [
        "def euclidean_similarity(a, b):\n",
        "  return 1 / (1 + np.linalg.norm(a - b))"
      ],
      "metadata": {
        "id": "Xax92MCeT198"
      },
      "execution_count": null,
      "outputs": []
    },
    {
      "cell_type": "code",
      "source": [
        "def pearson_correlation(a, b):\n",
        "  aBar = np.mean(a)\n",
        "  bBar = np.mean(b)\n",
        "\n",
        "  return cosine_similarity(a-aBar, b-bBar)"
      ],
      "metadata": {
        "id": "VYTDZZPzUP8R"
      },
      "execution_count": null,
      "outputs": []
    },
    {
      "cell_type": "markdown",
      "source": [
        "## Collaborative Filtering"
      ],
      "metadata": {
        "id": "hfJSWDTwCg1F"
      }
    },
    {
      "cell_type": "code",
      "source": [
        "lastSimilarities = None"
      ],
      "metadata": {
        "id": "yjD6VIrCnPeY"
      },
      "execution_count": null,
      "outputs": []
    },
    {
      "cell_type": "code",
      "source": [
        "# User-based\n",
        "def collaborative_filtering(data, userRatings, similarityFunction=euclidean_similarity, N=50, new=True):\n",
        "  global lastSimilarities\n",
        "  userCount, songCount = len(data), len(data[0])\n",
        "\n",
        "  assert N <= userCount, 'the value of \"N\" cannot exceed the number of users'\n",
        "\n",
        "  userSongIds = [songId for songId,listenCount in userRatings]\n",
        "  userListenCounts = [listenCount for songId,listenCount in userRatings]\n",
        "\n",
        "  filteredData = data[:,userSongIds]\n",
        "\n",
        "  if new:\n",
        "    similarities = np.array([\n",
        "        similarityFunction(filteredData[userId], userListenCounts) \\\n",
        "        for userId in range(userCount)\n",
        "    ])\n",
        "    lastSimilarities = similarities\n",
        "  else:\n",
        "      similarities = lastSimilarities\n",
        "\n",
        "  mostSimilarUsers = np.argsort(similarities)[-N:]\n",
        "  mostSimilarRatings = data[mostSimilarUsers]\n",
        "  mostSimilarSimilarities = similarities[mostSimilarUsers]\n",
        "\n",
        "  similaritySum = np.sum(mostSimilarSimilarities)\n",
        "\n",
        "  newRatings = mostSimilarSimilarities.dot(mostSimilarRatings) / similaritySum\n",
        "  return newRatings"
      ],
      "metadata": {
        "id": "--xA9UKYWjOn"
      },
      "execution_count": null,
      "outputs": []
    },
    {
      "cell_type": "markdown",
      "source": [
        "## Evaluation"
      ],
      "metadata": {
        "id": "OwvqAIsmaMna"
      }
    },
    {
      "cell_type": "code",
      "source": [
        "def mean_squared_error(target, actual):\n",
        "    assert len(target) == len(actual), 'cannot compare two vectors with unequal size'\n",
        "    n = len(target)\n",
        "\n",
        "    return np.sum(np.square(target-actual)) / n"
      ],
      "metadata": {
        "id": "wAfiR0-5aOAN"
      },
      "execution_count": null,
      "outputs": []
    },
    {
      "cell_type": "code",
      "source": [
        "# Create \"evaluation\" version of collaborative filtering algorithm\n",
        "# Takes in optional similarities to avoid expensive recomputation\n",
        "def collaborative_filtering_evaluation(data, userRatings, similarityFunction=euclidean_similarity, N=50, lastSimilarities=None):\n",
        "  userCount, songCount = len(data), len(data[0])\n",
        "\n",
        "  assert N <= userCount, 'the value of \"N\" cannot exceed the number of users'\n",
        "\n",
        "  userSongIds = [songId for songId,listenCount in userRatings]\n",
        "  userListenCounts = [listenCount for songId,listenCount in userRatings]\n",
        "\n",
        "  filteredData = data[:,userSongIds]\n",
        "\n",
        "  if lastSimilarities is None:\n",
        "    similarities = np.array([\n",
        "        similarityFunction(filteredData[userId], userListenCounts) \\\n",
        "        for userId in range(userCount)\n",
        "    ])\n",
        "  else:\n",
        "      similarities = lastSimilarities\n",
        "\n",
        "  mostSimilarUsers = np.argsort(similarities)[-N:]\n",
        "  mostSimilarRatings = data[mostSimilarUsers]\n",
        "  mostSimilarSimilarities = similarities[mostSimilarUsers]\n",
        "\n",
        "  similaritySum = np.sum(mostSimilarSimilarities)\n",
        "\n",
        "  newRatings = mostSimilarSimilarities.dot(mostSimilarRatings) / similaritySum\n",
        "  return newRatings, similarities"
      ],
      "metadata": {
        "id": "gjI3d3-2p-FR"
      },
      "execution_count": null,
      "outputs": []
    },
    {
      "cell_type": "markdown",
      "source": [
        "## Results"
      ],
      "metadata": {
        "id": "iGhWkNKTYwEX"
      }
    },
    {
      "cell_type": "code",
      "source": [
        "# Select 10 test users randomly\n",
        "np.random.shuffle(ratings)\n",
        "trainRatings = ratings[:-10]\n",
        "testRatings = ratings[-10:]"
      ],
      "metadata": {
        "id": "Nbj0rIRcbnIf"
      },
      "execution_count": null,
      "outputs": []
    },
    {
      "cell_type": "code",
      "source": [
        "# Values of N and similarity functions to evaluate\n",
        "rangeN = range(1, 500, 10)\n",
        "similarityFunctions = [euclidean_similarity, cosine_similarity, pearson_correlation]"
      ],
      "metadata": {
        "id": "13E6dahztpmS"
      },
      "execution_count": null,
      "outputs": []
    },
    {
      "cell_type": "code",
      "source": [
        "totalErrors = [[0]*len(rangeN) for _ in range(len(similarityFunctions))]\n",
        "\n",
        "# Compute total error over 10 test users for each similarity function\n",
        "for j,similarityFunction in enumerate(similarityFunctions):\n",
        "    print(f'Testing similarity function \"{similarityFunction.__name__}\"...')\n",
        "\n",
        "    for i,userRatings in enumerate(testRatings):\n",
        "        print(f'Computing user {i+1}...')\n",
        "\n",
        "        favoriteSongs = np.argsort(userRatings)[-5:]\n",
        "        convertedUserRatings = np.array([(songId, userRatings[songId]) for songId in favoriteSongs])\n",
        "        lastSimilarities = None\n",
        "\n",
        "        for i,N in enumerate(rangeN):\n",
        "            predictedUserRatings, lastSimilarities = collaborative_filtering_evaluation(trainRatings, convertedUserRatings,\n",
        "                similarityFunction=similarityFunction, N=N, lastSimilarities=lastSimilarities)\n",
        "            totalErrors[j][i] += mean_squared_error(predictedUserRatings, userRatings)\n",
        "\n",
        "    print()"
      ],
      "metadata": {
        "colab": {
          "base_uri": "https://localhost:8080/"
        },
        "id": "r0jRoA4WbyaW",
        "outputId": "1e2edce2-f58c-4103-ab23-a6158ae92773"
      },
      "execution_count": null,
      "outputs": [
        {
          "output_type": "stream",
          "name": "stdout",
          "text": [
            "Testing similarity function \"euclidean_similarity\"...\n",
            "Computing user 1...\n",
            "Computing user 2...\n",
            "Computing user 3...\n",
            "Computing user 4...\n",
            "Computing user 5...\n",
            "Computing user 6...\n",
            "Computing user 7...\n",
            "Computing user 8...\n",
            "Computing user 9...\n",
            "Computing user 10...\n",
            "\n",
            "Testing similarity function \"cosine_similarity\"...\n",
            "Computing user 1...\n",
            "Computing user 2...\n",
            "Computing user 3...\n",
            "Computing user 4...\n",
            "Computing user 5...\n",
            "Computing user 6...\n",
            "Computing user 7...\n",
            "Computing user 8...\n",
            "Computing user 9...\n",
            "Computing user 10...\n",
            "\n",
            "Testing similarity function \"pearson_correlation\"...\n",
            "Computing user 1...\n",
            "Computing user 2...\n",
            "Computing user 3...\n",
            "Computing user 4...\n",
            "Computing user 5...\n",
            "Computing user 6...\n",
            "Computing user 7...\n",
            "Computing user 8...\n",
            "Computing user 9...\n",
            "Computing user 10...\n",
            "\n"
          ]
        }
      ]
    },
    {
      "cell_type": "code",
      "source": [
        "plt.title('Error vs. N (Euclidean)', fontsize=20)\n",
        "plt.ylabel('Error (MSE)', fontsize=16)\n",
        "plt.ylim(.75, 1.5)\n",
        "plt.xlabel('N', fontsize=16)\n",
        "plt.plot(rangeN, totalErrors[0], linewidth='2', color='#361b81')\n",
        "plt.show()"
      ],
      "metadata": {
        "colab": {
          "base_uri": "https://localhost:8080/",
          "height": 305
        },
        "id": "ogvkSVKSo6i7",
        "outputId": "93f17a3b-226b-44da-c36b-fdad0bf5facd"
      },
      "execution_count": null,
      "outputs": [
        {
          "output_type": "display_data",
          "data": {
            "text/plain": [
              "<Figure size 432x288 with 1 Axes>"
            ],
            "image/png": "[encoded data removed]"
          },
          "metadata": {
            "needs_background": "light"
          }
        }
      ]
    },
    {
      "cell_type": "code",
      "source": [
        "plt.title('Error vs. N (Cosine)', fontsize=20)\n",
        "plt.ylabel('Error (MSE)', fontsize=16)\n",
        "plt.ylim(.75, 1.5)\n",
        "plt.xlabel('N', fontsize=16)\n",
        "plt.plot(rangeN, totalErrors[1], linewidth='2', color='#6b44db')\n",
        "plt.show()"
      ],
      "metadata": {
        "colab": {
          "base_uri": "https://localhost:8080/",
          "height": 305
        },
        "id": "JtFG7o2Fv6IB",
        "outputId": "533fc7a3-bf3b-4bdf-e037-2a3687502180"
      },
      "execution_count": null,
      "outputs": [
        {
          "output_type": "display_data",
          "data": {
            "text/plain": [
              "<Figure size 432x288 with 1 Axes>"
            ],
            "image/png": "[encoded data removed]"
          },
          "metadata": {
            "needs_background": "light"
          }
        }
      ]
    },
    {
      "cell_type": "code",
      "source": [
        "plt.title('Error vs. N (Pearson)', fontsize=20)\n",
        "plt.ylabel('Error (MSE)', fontsize=16)\n",
        "plt.ylim(.75, 1.5)\n",
        "plt.xlabel('N', fontsize=16)\n",
        "plt.plot(rangeN, totalErrors[2], linewidth='2', color='#b445ff')\n",
        "plt.show()"
      ],
      "metadata": {
        "colab": {
          "base_uri": "https://localhost:8080/",
          "height": 305
        },
        "id": "ssmXlotVwfYl",
        "outputId": "3b1adc99-bef1-478e-e0c1-d0a258fb2da3"
      },
      "execution_count": null,
      "outputs": [
        {
          "output_type": "display_data",
          "data": {
            "text/plain": [
              "<Figure size 432x288 with 1 Axes>"
            ],
            "image/png": "[encoded data removed]"
          },
          "metadata": {
            "needs_background": "light"
          }
        }
      ]
    },
    {
      "cell_type": "code",
      "source": [
        "plt.title('Error vs. N (All)', fontsize=20)\n",
        "plt.ylabel('Error (MSE)', fontsize=16)\n",
        "plt.ylim(.75, 1.5)\n",
        "plt.xlabel('N', fontsize=16)\n",
        "plt.plot(rangeN, totalErrors[0], label='Euclidean', linewidth='2', color='#361b81')\n",
        "plt.plot(rangeN, totalErrors[1], label='Cosine', linewidth='2', color='#6b44db')\n",
        "plt.plot(rangeN, totalErrors[2], label='Pearson', linewidth='2', color='#b445ff')\n",
        "plt.legend()\n",
        "plt.show()"
      ],
      "metadata": {
        "colab": {
          "base_uri": "https://localhost:8080/",
          "height": 305
        },
        "id": "O4sN5O8swjce",
        "outputId": "dcceea0c-90b5-49ca-cd1e-77870c13acef"
      },
      "execution_count": null,
      "outputs": [
        {
          "output_type": "display_data",
          "data": {
            "text/plain": [
              "<Figure size 432x288 with 1 Axes>"
            ],
            "image/png": "[encoded data removed]"
          },
          "metadata": {
            "needs_background": "light"
          }
        }
      ]
    },
    {
      "cell_type": "code",
      "source": [
        "# Find best N value\n",
        "minIndex = np.argmin(totalErrors[0])\n",
        "rangeN[minIndex]"
      ],
      "metadata": {
        "colab": {
          "base_uri": "https://localhost:8080/"
        },
        "id": "p1ZQb8RgxFjk",
        "outputId": "a3e30a73-e7f7-4d85-bfa7-f37cd15c4736"
      },
      "execution_count": null,
      "outputs": [
        {
          "output_type": "execute_result",
          "data": {
            "text/plain": [
              "51"
            ]
          },
          "metadata": {},
          "execution_count": 63
        }
      ]
    },
    {
      "cell_type": "code",
      "source": [
        "def print_songs(songIds):\n",
        "    for songId in songIds:\n",
        "        artist, name = songInfoMap[str(songId)]\n",
        "        print(songId, ':', name, '-', artist)"
      ],
      "metadata": {
        "id": "rOM4S2PWUHc0"
      },
      "execution_count": null,
      "outputs": []
    },
    {
      "cell_type": "code",
      "source": [
        "# User ratings is a \"song id\"-\"listen count\" tuple\n",
        "# For these examples, the user has listened to each song ten times"
      ],
      "metadata": {
        "id": "IR57K4qKWce_"
      },
      "execution_count": null,
      "outputs": []
    },
    {
      "cell_type": "code",
      "source": [
        "# Create test user who loves Aerosmith\n",
        "userRatings = [(33110, 10), (33915, 10), (671, 10), (3243, 10), (12401, 10)]\n",
        "favoriteSongs = [songId for songId,_ in userRatings]\n",
        "\n",
        "print('Favorite songs:')\n",
        "print_songs(favoriteSongs)"
      ],
      "metadata": {
        "colab": {
          "base_uri": "https://localhost:8080/"
        },
        "id": "oxZn3f9jWQiK",
        "outputId": "8312aa97-801e-4ebf-f23f-13c32c98b992"
      },
      "execution_count": null,
      "outputs": [
        {
          "output_type": "stream",
          "name": "stdout",
          "text": [
            "Favorite songs:\n",
            "33110 : Walk On Water - Aerosmith\n",
            "33915 : Dream On - Aerosmith\n",
            "671 : Round And Round - Aerosmith\n",
            "3243 : Walk This Way - Aerosmith\n",
            "12401 : Dude (Looks Like A Lady) - Aerosmith\n"
          ]
        }
      ]
    },
    {
      "cell_type": "code",
      "source": [
        "predictedUserRatings = collaborative_filtering(ratings, userRatings)\n",
        "bestPredictedSongs = reversed([songId for songId in np.argsort(predictedUserRatings) if songId not in favoriteSongs][-5:])\n",
        "\n",
        "print('Recommended songs:')\n",
        "print_songs(bestPredictedSongs)"
      ],
      "metadata": {
        "colab": {
          "base_uri": "https://localhost:8080/"
        },
        "id": "nFJUoNRaWQTj",
        "outputId": "ef866222-80f0-4a1f-8de3-a8a7a1bab3da"
      },
      "execution_count": null,
      "outputs": [
        {
          "output_type": "stream",
          "name": "stdout",
          "text": [
            "Recommended songs:\n",
            "12089 : Crazy - Aerosmith\n",
            "34292 : It's My Life - Bon Jovi\n",
            "25725 : Abololo - Marisa Monte\n",
            "2443 : Sincerité Et Jalousie - Alliance Ethnik\n",
            "12172 : Over The Hills And Far Away - Nightwish\n"
          ]
        }
      ]
    },
    {
      "cell_type": "code",
      "source": [
        "# Create test user who likes concertos\n",
        "userRatings = [(6686, 10), (16795, 10), (9505, 10), (22955, 10), (27290, 10)]\n",
        "favoriteSongs = [songId for songId,_ in userRatings]\n",
        "\n",
        "print('Favorite songs:')\n",
        "print_songs(favoriteSongs)"
      ],
      "metadata": {
        "colab": {
          "base_uri": "https://localhost:8080/"
        },
        "id": "fJEFmtT4WQ09",
        "outputId": "8170d20c-9cd2-44b2-ac30-702c655d3c81"
      },
      "execution_count": null,
      "outputs": [
        {
          "output_type": "stream",
          "name": "stdout",
          "text": [
            "Favorite songs:\n",
            "6686 : Horn Concerto No. 2 in E flat K417 (2008 Digital Remaster): I.   Allegro maestoso - Dennis Brain/Philharmonia Orchestra/Walter Susskind\n",
            "16795 : Concerto No. 2 in B-Flat Major for Piano and Orchestra_ Op. 83: IV. Allegretto grazioso - Berlin Symphony Orchestra\n",
            "9505 : Keyboard Concerto in G minor BWV1058: I.   [Allegro] - Andrei Gavrilov/Academy of St Martin-in-the-Fields/Sir Neville Marriner/John Constable\n",
            "22955 : Concerto for guitar & small orchestra: Third movement: Allegretto non troppo - Angel Romero/London Philharmonic Orchestra/Jésus López-Cobos\n",
            "27290 : Triple Concerto - William Orbit\n"
          ]
        }
      ]
    },
    {
      "cell_type": "code",
      "source": [
        "predictedUserRatings = collaborative_filtering(ratings, userRatings)\n",
        "bestPredictedSongs = reversed([songId for songId in np.argsort(predictedUserRatings) if songId not in favoriteSongs][-5:])\n",
        "\n",
        "print('Recommended songs:')\n",
        "print_songs(bestPredictedSongs)"
      ],
      "metadata": {
        "colab": {
          "base_uri": "https://localhost:8080/"
        },
        "id": "CbBVQIxQWQuc",
        "outputId": "da423cd8-670e-4b55-da39-5f60b1801b35"
      },
      "execution_count": null,
      "outputs": [
        {
          "output_type": "stream",
          "name": "stdout",
          "text": [
            "Recommended songs:\n",
            "3279 : Apology - Alesana\n",
            "30301 : Montego Bay - The Bar-Kays\n",
            "33915 : Dream On - Aerosmith\n",
            "27485 : No Damn Fool - Throttlerod\n",
            "19794 : Serenity in fire - KATAKLYSM\n"
          ]
        }
      ]
    },
    {
      "cell_type": "code",
      "source": [
        "# Create test user who listens to rap music\n",
        "userRatings = [(29107, 10), (18766, 10), (24856, 10), (7517, 10), (3852, 10)]\n",
        "favoriteSongs = [songId for songId,_ in userRatings]\n",
        "\n",
        "print('Favorite songs:')\n",
        "print_songs(favoriteSongs)"
      ],
      "metadata": {
        "id": "28Cru4C2_6xH",
        "colab": {
          "base_uri": "https://localhost:8080/"
        },
        "outputId": "179142b1-c018-42a0-e74e-80e19fd94259"
      },
      "execution_count": null,
      "outputs": [
        {
          "output_type": "stream",
          "name": "stdout",
          "text": [
            "Favorite songs:\n",
            "29107 : RoboCop - Kanye West\n",
            "18766 : Evil Deeds - Eminem\n",
            "24856 : Family Business - Kanye West\n",
            "7517 : Got Money - Lil Wayne / T-Pain\n",
            "3852 : Coldest Winter - Kanye West\n"
          ]
        }
      ]
    },
    {
      "cell_type": "code",
      "source": [
        "predictedUserRatings = collaborative_filtering(ratings, userRatings)\n",
        "bestPredictedSongs = reversed([songId for songId in np.argsort(predictedUserRatings) if songId not in favoriteSongs][-5:])\n",
        "\n",
        "print('Recommended songs:')\n",
        "print_songs(bestPredictedSongs)"
      ],
      "metadata": {
        "id": "pNvFD-bHClyp",
        "colab": {
          "base_uri": "https://localhost:8080/"
        },
        "outputId": "a463f2dd-85e5-4760-d5c6-b17f442568ee"
      },
      "execution_count": null,
      "outputs": [
        {
          "output_type": "stream",
          "name": "stdout",
          "text": [
            "Recommended songs:\n",
            "30846 : Gears - Future Rock\n",
            "36216 : Say You Will - Kanye West\n",
            "14655 : Street Lights - Kanye West\n",
            "2968 : Stronger - Kanye West\n",
            "19162 : Champion - Kanye West\n"
          ]
        }
      ]
    },
    {
      "cell_type": "markdown",
      "source": [
        "## Conclusion\n",
        "The recommendations generated by our algorithm for the rock user and rap user were good, but the recommendations for the classical user could have been improved. This was likely due to the lack of classical music in the dataset. Our method of downsampling was to simply take the most popular songs. However, we suspect that this led to a significant reduction in the amount of classical music, as pop and hip-hop music tends to have the greatest listen counts. To improve this project, we should either attempt to downsample the data in a way that is less biased, or we should attempt to use more of the original data by compressing the representation. This could be done using techniques from linear algebra, such as matrix factorization."
      ],
      "metadata": {
        "id": "9LJat-lQ1FTk"
      }
    },
    {
      "cell_type": "markdown",
      "source": [
        "## References"
      ],
      "metadata": {
        "id": "e12_JEzXYpst"
      }
    },
    {
      "cell_type": "markdown",
      "source": [
        "- http://millionsongdataset.com/tasteprofile\n",
        "- http://millionsongdataset.com/sites/default/files/AdditionalFiles/unique_tracks.txt\n",
        "- https://towardsdatascience.com/intro-to-recommender-system-collaborative-filtering-64a238194a26\n",
        "- https://realpython.com/build-recommendation-engine-collaborative-filtering"
      ],
      "metadata": {
        "id": "8Ablx4iAYsKZ"
      }
    }
  ],
  "metadata": {
    "colab": {
      "provenance": []
    },
    "kernelspec": {
      "display_name": "Python 3",
      "name": "python3"
    },
    "language_info": {
      "name": "python"
    }
  },
  "nbformat": 4,
  "nbformat_minor": 0
}